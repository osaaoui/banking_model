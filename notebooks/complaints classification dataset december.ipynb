{
 "cells": [
  {
   "cell_type": "code",
   "execution_count": 3,
   "id": "bc0578ae",
   "metadata": {},
   "outputs": [],
   "source": [
    "import pandas as pd\n",
    "import numpy as np\n",
    "import matplotlib.pyplot as plt\n",
    "import seaborn as sns"
   ]
  },
  {
   "cell_type": "code",
   "execution_count": 4,
   "id": "77b0a8a6",
   "metadata": {},
   "outputs": [],
   "source": [
    "#Lecture du dataset\n",
    "df= pd.read_csv('../data/external/train.csv')"
   ]
  },
  {
   "cell_type": "code",
   "execution_count": 51,
   "id": "2322fcfd",
   "metadata": {},
   "outputs": [
    {
     "data": {
      "text/plain": [
       "(1245954, 18)"
      ]
     },
     "execution_count": 51,
     "metadata": {},
     "output_type": "execute_result"
    }
   ],
   "source": [
    "df.shape"
   ]
  },
  {
   "cell_type": "code",
   "execution_count": 36,
   "id": "c6c172db",
   "metadata": {},
   "outputs": [
    {
     "data": {
      "text/plain": [
       "Index(['Date received', 'Product', 'Sub-product', 'Issue', 'Sub-issue',\n",
       "       'Consumer complaint narrative', 'Company public response', 'Company',\n",
       "       'State', 'ZIP code', 'Tags', 'Consumer consent provided?',\n",
       "       'Submitted via', 'Date sent to company', 'Company response to consumer',\n",
       "       'Timely response?', 'Consumer disputed?', 'Complaint ID'],\n",
       "      dtype='object')"
      ]
     },
     "execution_count": 36,
     "metadata": {},
     "output_type": "execute_result"
    }
   ],
   "source": [
    "df.columns"
   ]
  },
  {
   "cell_type": "code",
   "execution_count": 39,
   "id": "ee42d7eb",
   "metadata": {},
   "outputs": [
    {
     "data": {
      "text/plain": [
       "Date received                         0\n",
       "Product                               0\n",
       "Sub-product                           0\n",
       "Issue                                 0\n",
       "Sub-issue                             0\n",
       "Consumer complaint narrative          0\n",
       "Company public response               0\n",
       "Company                               0\n",
       "State                                 0\n",
       "ZIP code                              0\n",
       "Tags                                  0\n",
       "Consumer consent provided?            0\n",
       "Submitted via                         0\n",
       "Date sent to company                  0\n",
       "Company response to consumer          0\n",
       "Timely response?                      0\n",
       "Consumer disputed?              1197844\n",
       "Complaint ID                          0\n",
       "dtype: int64"
      ]
     },
     "execution_count": 39,
     "metadata": {},
     "output_type": "execute_result"
    }
   ],
   "source": [
    "#Valeurs nulles\n",
    "df.isna().sum()"
   ]
  },
  {
   "cell_type": "code",
   "execution_count": 6,
   "id": "01b665d2",
   "metadata": {},
   "outputs": [
    {
     "data": {
      "text/plain": [
       "Credit reporting, credit repair services, or other personal consumer reports    778990\n",
       "Debt collection                                                                 210805\n",
       "Credit reporting or other personal consumer reports                              72657\n",
       "Mortgage                                                                         59437\n",
       "Checking or savings account                                                      46699\n",
       "Credit card or prepaid card                                                      35040\n",
       "Credit reporting                                                                 21216\n",
       "Student loan                                                                     21110\n",
       "Name: Product, dtype: int64"
      ]
     },
     "execution_count": 6,
     "metadata": {},
     "output_type": "execute_result"
    }
   ],
   "source": [
    "#Compter le nombre de modalités de la variable 'Product'\n",
    "df.Product.value_counts()"
   ]
  },
  {
   "cell_type": "code",
   "execution_count": 7,
   "id": "11bb582b",
   "metadata": {},
   "outputs": [
    {
     "data": {
      "text/html": [
       "<div>\n",
       "<style scoped>\n",
       "    .dataframe tbody tr th:only-of-type {\n",
       "        vertical-align: middle;\n",
       "    }\n",
       "\n",
       "    .dataframe tbody tr th {\n",
       "        vertical-align: top;\n",
       "    }\n",
       "\n",
       "    .dataframe thead th {\n",
       "        text-align: right;\n",
       "    }\n",
       "</style>\n",
       "<table border=\"1\" class=\"dataframe\">\n",
       "  <thead>\n",
       "    <tr style=\"text-align: right;\">\n",
       "      <th></th>\n",
       "      <th>Date received</th>\n",
       "      <th>Product</th>\n",
       "      <th>Sub-product</th>\n",
       "      <th>Issue</th>\n",
       "      <th>Sub-issue</th>\n",
       "      <th>Consumer complaint narrative</th>\n",
       "      <th>Company public response</th>\n",
       "      <th>Company</th>\n",
       "      <th>State</th>\n",
       "      <th>ZIP code</th>\n",
       "      <th>Tags</th>\n",
       "      <th>Consumer consent provided?</th>\n",
       "      <th>Submitted via</th>\n",
       "      <th>Date sent to company</th>\n",
       "      <th>Company response to consumer</th>\n",
       "      <th>Timely response?</th>\n",
       "      <th>Consumer disputed?</th>\n",
       "      <th>Complaint ID</th>\n",
       "    </tr>\n",
       "  </thead>\n",
       "  <tbody>\n",
       "    <tr>\n",
       "      <th>0</th>\n",
       "      <td>07/02/18</td>\n",
       "      <td>Checking or savings account</td>\n",
       "      <td>Checking account</td>\n",
       "      <td>Managing an account</td>\n",
       "      <td>Deposits and withdrawals</td>\n",
       "      <td>I opened a Capital One 360 checking account a ...</td>\n",
       "      <td>None</td>\n",
       "      <td>CAPITAL ONE FINANCIAL CORPORATION</td>\n",
       "      <td>NY</td>\n",
       "      <td>XXXXX</td>\n",
       "      <td>None</td>\n",
       "      <td>Consent provided</td>\n",
       "      <td>Web</td>\n",
       "      <td>07/02/18</td>\n",
       "      <td>Closed with explanation</td>\n",
       "      <td>Yes</td>\n",
       "      <td>NaN</td>\n",
       "      <td>2951366</td>\n",
       "    </tr>\n",
       "    <tr>\n",
       "      <th>1</th>\n",
       "      <td>05/30/20</td>\n",
       "      <td>Checking or savings account</td>\n",
       "      <td>Checking account</td>\n",
       "      <td>Managing an account</td>\n",
       "      <td>Problem using a debit or ATM card</td>\n",
       "      <td>On XX/XX/2020 at around XXXX AM, I received a ...</td>\n",
       "      <td>Company has responded to the consumer and the ...</td>\n",
       "      <td>WELLS FARGO &amp; COMPANY</td>\n",
       "      <td>GA</td>\n",
       "      <td>30058</td>\n",
       "      <td>Older American</td>\n",
       "      <td>Consent provided</td>\n",
       "      <td>Web</td>\n",
       "      <td>05/30/20</td>\n",
       "      <td>Closed with explanation</td>\n",
       "      <td>Yes</td>\n",
       "      <td>NaN</td>\n",
       "      <td>3675602</td>\n",
       "    </tr>\n",
       "    <tr>\n",
       "      <th>2</th>\n",
       "      <td>03/13/23</td>\n",
       "      <td>Checking or savings account</td>\n",
       "      <td>Checking account</td>\n",
       "      <td>Managing an account</td>\n",
       "      <td>Problem using a debit or ATM card</td>\n",
       "      <td>On XXXX XXXX, {$700.00} was fraudulently taken...</td>\n",
       "      <td>Company has responded to the consumer and the ...</td>\n",
       "      <td>WELLS FARGO &amp; COMPANY</td>\n",
       "      <td>PA</td>\n",
       "      <td>17055</td>\n",
       "      <td>None</td>\n",
       "      <td>Consent provided</td>\n",
       "      <td>Web</td>\n",
       "      <td>03/13/23</td>\n",
       "      <td>Closed with explanation</td>\n",
       "      <td>Yes</td>\n",
       "      <td>NaN</td>\n",
       "      <td>6687520</td>\n",
       "    </tr>\n",
       "  </tbody>\n",
       "</table>\n",
       "</div>"
      ],
      "text/plain": [
       "  Date received                      Product       Sub-product  \\\n",
       "0      07/02/18  Checking or savings account  Checking account   \n",
       "1      05/30/20  Checking or savings account  Checking account   \n",
       "2      03/13/23  Checking or savings account  Checking account   \n",
       "\n",
       "                 Issue                          Sub-issue  \\\n",
       "0  Managing an account           Deposits and withdrawals   \n",
       "1  Managing an account  Problem using a debit or ATM card   \n",
       "2  Managing an account  Problem using a debit or ATM card   \n",
       "\n",
       "                        Consumer complaint narrative  \\\n",
       "0  I opened a Capital One 360 checking account a ...   \n",
       "1  On XX/XX/2020 at around XXXX AM, I received a ...   \n",
       "2  On XXXX XXXX, {$700.00} was fraudulently taken...   \n",
       "\n",
       "                             Company public response  \\\n",
       "0                                               None   \n",
       "1  Company has responded to the consumer and the ...   \n",
       "2  Company has responded to the consumer and the ...   \n",
       "\n",
       "                             Company State ZIP code            Tags  \\\n",
       "0  CAPITAL ONE FINANCIAL CORPORATION    NY    XXXXX            None   \n",
       "1              WELLS FARGO & COMPANY    GA    30058  Older American   \n",
       "2              WELLS FARGO & COMPANY    PA    17055            None   \n",
       "\n",
       "  Consumer consent provided? Submitted via Date sent to company  \\\n",
       "0           Consent provided           Web             07/02/18   \n",
       "1           Consent provided           Web             05/30/20   \n",
       "2           Consent provided           Web             03/13/23   \n",
       "\n",
       "  Company response to consumer Timely response? Consumer disputed?  \\\n",
       "0      Closed with explanation              Yes                NaN   \n",
       "1      Closed with explanation              Yes                NaN   \n",
       "2      Closed with explanation              Yes                NaN   \n",
       "\n",
       "   Complaint ID  \n",
       "0       2951366  \n",
       "1       3675602  \n",
       "2       6687520  "
      ]
     },
     "execution_count": 7,
     "metadata": {},
     "output_type": "execute_result"
    }
   ],
   "source": [
    "# Balance the data\n",
    "df_grouped_by = df.groupby(['Product'])\n",
    "df_balanced = df_grouped_by.apply(lambda x: x.sample(df_grouped_by.size().min()).reset_index(drop=True))\n",
    "df_balanced = df_balanced.droplevel(['Product'])\n",
    "df_balanced.head(3)"
   ]
  },
  {
   "cell_type": "code",
   "execution_count": 44,
   "id": "a65eda11",
   "metadata": {},
   "outputs": [],
   "source": [
    "df_balanced.to_csv('complaints.csv', index=False,encoding='utf-8')"
   ]
  },
  {
   "cell_type": "code",
   "execution_count": 8,
   "id": "8cc8d874",
   "metadata": {},
   "outputs": [
    {
     "data": {
      "text/plain": [
       "(168880, 18)"
      ]
     },
     "execution_count": 8,
     "metadata": {},
     "output_type": "execute_result"
    }
   ],
   "source": [
    "df_balanced.shape"
   ]
  },
  {
   "cell_type": "code",
   "execution_count": 9,
   "id": "ae568a4a",
   "metadata": {},
   "outputs": [
    {
     "data": {
      "text/plain": [
       "Checking or savings account                                                     21110\n",
       "Credit card or prepaid card                                                     21110\n",
       "Credit reporting                                                                21110\n",
       "Credit reporting or other personal consumer reports                             21110\n",
       "Credit reporting, credit repair services, or other personal consumer reports    21110\n",
       "Debt collection                                                                 21110\n",
       "Mortgage                                                                        21110\n",
       "Student loan                                                                    21110\n",
       "Name: Product, dtype: int64"
      ]
     },
     "execution_count": 9,
     "metadata": {},
     "output_type": "execute_result"
    }
   ],
   "source": [
    "df_balanced.Product.value_counts()"
   ]
  },
  {
   "cell_type": "code",
   "execution_count": 10,
   "id": "2f819027",
   "metadata": {},
   "outputs": [
    {
     "data": {
      "text/plain": [
       "Incorrect information on your report                                                21665\n",
       "Incorrect information on credit report                                              21110\n",
       "Managing an account                                                                 20971\n",
       "Dealing with your lender or servicer                                                19118\n",
       "Problem with a purchase shown on your statement                                     15787\n",
       "Trouble during payment process                                                      13392\n",
       "Improper use of your report                                                         12411\n",
       "Problem with a credit reporting company's investigation into an existing problem    10878\n",
       "Attempts to collect debt not owed                                                    9090\n",
       "Struggling to pay mortgage                                                           6867\n",
       "Problem with a company's investigation into an existing problem                      5571\n",
       "Written notification about debt                                                      3553\n",
       "False statements or representation                                                   2393\n",
       "Communication tactics                                                                2291\n",
       "Took or threatened to take negative or legal action                                  2028\n",
       "Cont'd attempts collect debt not owed                                                1755\n",
       "Name: Issue, dtype: int64"
      ]
     },
     "execution_count": 10,
     "metadata": {},
     "output_type": "execute_result"
    }
   ],
   "source": [
    "df_balanced.Issue.value_counts()"
   ]
  },
  {
   "cell_type": "code",
   "execution_count": 11,
   "id": "540ade23",
   "metadata": {},
   "outputs": [],
   "source": [
    "#Remove stop words\n",
    "import warnings\n",
    "warnings.filterwarnings(\"ignore\")\n",
    "from nltk.corpus import stopwords\n",
    "import nltk"
   ]
  },
  {
   "cell_type": "code",
   "execution_count": 12,
   "id": "91cb170b",
   "metadata": {},
   "outputs": [],
   "source": [
    "stopword=set(stopwords.words('english'))"
   ]
  },
  {
   "cell_type": "code",
   "execution_count": 13,
   "id": "62452efd",
   "metadata": {},
   "outputs": [],
   "source": [
    "import string\n",
    "import re\n",
    "def clean(text):\n",
    "    text = str(text).lower()\n",
    "    text = re.sub('\\[.*?\\]', '', text)\n",
    "    text = re.sub('https?://\\S+|www\\.\\S+', '', text)\n",
    "    text = re.sub('<.*?>+', '', text)\n",
    "    text = re.sub('[%s]' % re.escape(string.punctuation), '', text)\n",
    "    text = re.sub('\\n', '', text)\n",
    "    text = re.sub('\\w*\\d\\w*', '', text)\n",
    "    text = [word for word in text.split(' ') if word not in stopword]\n",
    "    text=\" \".join(text)\n",
    "    #text = [stemmer.stem(word) for word in text.split(' ')]\n",
    "    #text=\" \".join(text)\n",
    "    return text"
   ]
  },
  {
   "cell_type": "code",
   "execution_count": 14,
   "id": "433b79b1",
   "metadata": {},
   "outputs": [],
   "source": [
    "df_balanced['clean_text'] = df_balanced[\"Consumer complaint narrative\"].apply(clean)"
   ]
  },
  {
   "cell_type": "code",
   "execution_count": 15,
   "id": "bc49d524",
   "metadata": {},
   "outputs": [
    {
     "data": {
      "text/plain": [
       "'On XX/XX/2020 at around XXXX AM, I received a called from my sister, XXXX XXXX, stated that Wells Fargo Bank was trying to get in touch with me and said I needed to call back. The woman leaving the message said her name was XXXX. I did not call back right away, but about 10 minutes after getting the message my phone began to ring. and continued to do ring twice before my daughter XXXX said, that might be Wells Fargo calling back. I then answered the phone and it was the woman named XXXX and that she was from Wells Fargo. She proceeded to tell me that there are some unauthorized transactions on my debit card. She went on to say that someone in another state was using my card number at a Target for {$690.00} and a XXXX for {$120.00}. She stated that Wells Fargo is shutting my card down and issuing out a new one. XXXX had my personal information like the last four of my Social Security and my cellphone number. She went on to say I will be receiving a verification code through a text message and to give her the number once I receive it. I did and she told me to hold on and not to hang up. Then she came back said I was all set and I should receive my new debit card in XXXX business days. I then hung checked my account and found that there was a {$2000.00} wire transfer out of my account. I immediately called the bank and told them what had just happened and that my account had been compromised. The person I spoke with at the bank was named XXXX. He then connected me to the fraud department where it was taken over by XXXX XXXX at Wells Fargo. I was given a claims number of XXXX.'"
      ]
     },
     "execution_count": 15,
     "metadata": {},
     "output_type": "execute_result"
    }
   ],
   "source": [
    "df_balanced[\"Consumer complaint narrative\"].iloc[1]"
   ]
  },
  {
   "cell_type": "code",
   "execution_count": 16,
   "id": "768d884d",
   "metadata": {},
   "outputs": [
    {
     "data": {
      "text/plain": [
       "' around xxxx received called sister xxxx xxxx stated wells fargo bank trying get touch said needed call back woman leaving message said name xxxx call back right away  minutes getting message phone began ring continued ring twice daughter xxxx said might wells fargo calling back answered phone woman named xxxx wells fargo proceeded tell unauthorized transactions debit card went say someone another state using card number target  xxxx  stated wells fargo shutting card issuing new one xxxx personal information like last four social security cellphone number went say receiving verification code text message give number receive told hold hang came back said set receive new debit card xxxx business days hung checked account found  wire transfer account immediately called bank told happened account compromised person spoke bank named xxxx connected fraud department taken xxxx xxxx wells fargo given claims number xxxx'"
      ]
     },
     "execution_count": 16,
     "metadata": {},
     "output_type": "execute_result"
    }
   ],
   "source": [
    "df_balanced[\"clean_text\"].iloc[1]"
   ]
  },
  {
   "cell_type": "code",
   "execution_count": 17,
   "id": "21e92440",
   "metadata": {},
   "outputs": [],
   "source": [
    "data=df_balanced[[\"Product\", \"clean_text\", \"Issue\"]].copy()"
   ]
  },
  {
   "cell_type": "code",
   "execution_count": 18,
   "id": "81d93b81",
   "metadata": {},
   "outputs": [],
   "source": [
    "data.columns=[\"category\", \"complaint\", \"Issue\"]"
   ]
  },
  {
   "cell_type": "code",
   "execution_count": 19,
   "id": "2e482707",
   "metadata": {},
   "outputs": [
    {
     "data": {
      "text/html": [
       "<div>\n",
       "<style scoped>\n",
       "    .dataframe tbody tr th:only-of-type {\n",
       "        vertical-align: middle;\n",
       "    }\n",
       "\n",
       "    .dataframe tbody tr th {\n",
       "        vertical-align: top;\n",
       "    }\n",
       "\n",
       "    .dataframe thead th {\n",
       "        text-align: right;\n",
       "    }\n",
       "</style>\n",
       "<table border=\"1\" class=\"dataframe\">\n",
       "  <thead>\n",
       "    <tr style=\"text-align: right;\">\n",
       "      <th></th>\n",
       "      <th>category</th>\n",
       "      <th>complaint</th>\n",
       "      <th>Issue</th>\n",
       "    </tr>\n",
       "  </thead>\n",
       "  <tbody>\n",
       "    <tr>\n",
       "      <th>0</th>\n",
       "      <td>Checking or savings account</td>\n",
       "      <td>opened capital one  checking account month ago...</td>\n",
       "      <td>Managing an account</td>\n",
       "    </tr>\n",
       "  </tbody>\n",
       "</table>\n",
       "</div>"
      ],
      "text/plain": [
       "                      category  \\\n",
       "0  Checking or savings account   \n",
       "\n",
       "                                           complaint                Issue  \n",
       "0  opened capital one  checking account month ago...  Managing an account  "
      ]
     },
     "execution_count": 19,
     "metadata": {},
     "output_type": "execute_result"
    }
   ],
   "source": [
    "data.head(1)"
   ]
  },
  {
   "cell_type": "code",
   "execution_count": 20,
   "id": "9e157f7b",
   "metadata": {},
   "outputs": [],
   "source": [
    "# Encoder la variable cible \"category\"\n",
    "data[\"category_id\"]= data[\"category\"].factorize()[0]"
   ]
  },
  {
   "cell_type": "code",
   "execution_count": 21,
   "id": "c4b9c966",
   "metadata": {},
   "outputs": [],
   "source": [
    "category_id_df = data[['category', 'category_id']].drop_duplicates()"
   ]
  },
  {
   "cell_type": "code",
   "execution_count": 22,
   "id": "32c6e6ba",
   "metadata": {},
   "outputs": [],
   "source": [
    "category_to_id = dict(category_id_df.values)\n",
    "id_to_category = dict(category_id_df[['category_id', 'category']].values)"
   ]
  },
  {
   "cell_type": "code",
   "execution_count": 42,
   "id": "cf59ac0e",
   "metadata": {},
   "outputs": [
    {
     "data": {
      "text/plain": [
       "{'Checking or savings account': 0,\n",
       " 'Credit card or prepaid card': 1,\n",
       " 'Credit reporting': 2,\n",
       " 'Credit reporting or other personal consumer reports': 3,\n",
       " 'Credit reporting, credit repair services, or other personal consumer reports': 4,\n",
       " 'Debt collection': 5,\n",
       " 'Mortgage': 6,\n",
       " 'Student loan': 7}"
      ]
     },
     "execution_count": 42,
     "metadata": {},
     "output_type": "execute_result"
    }
   ],
   "source": [
    "category_to_id"
   ]
  },
  {
   "cell_type": "markdown",
   "id": "4e0327ea",
   "metadata": {},
   "source": [
    "### Text Processing"
   ]
  },
  {
   "cell_type": "code",
   "execution_count": 23,
   "id": "9ef9c404",
   "metadata": {},
   "outputs": [],
   "source": [
    "from sklearn.feature_extraction.text import TfidfVectorizer, CountVectorizer\n",
    "from sklearn.feature_selection import chi2\n",
    "from IPython.display import display\n",
    "from sklearn.model_selection import train_test_split\n",
    "from sklearn.feature_extraction.text import TfidfTransformer\n",
    "from sklearn.naive_bayes import MultinomialNB\n",
    "from sklearn.linear_model import LogisticRegression\n",
    "from sklearn.ensemble import RandomForestClassifier\n",
    "from sklearn.svm import LinearSVC\n",
    "from sklearn.model_selection import cross_val_score\n",
    "from sklearn.metrics import confusion_matrix\n",
    "from sklearn import metrics"
   ]
  },
  {
   "cell_type": "code",
   "execution_count": 103,
   "id": "3f59e355",
   "metadata": {},
   "outputs": [
    {
     "name": "stdout",
     "output_type": "stream",
     "text": [
      "Requirement already satisfied: textblob in /Users/omarsaaoui/opt/anaconda3/lib/python3.9/site-packages (0.17.1)\n",
      "Requirement already satisfied: nltk>=3.1 in /Users/omarsaaoui/opt/anaconda3/lib/python3.9/site-packages (from textblob) (3.7)\n",
      "Requirement already satisfied: regex>=2021.8.3 in /Users/omarsaaoui/opt/anaconda3/lib/python3.9/site-packages (from nltk>=3.1->textblob) (2022.7.9)\n",
      "Requirement already satisfied: tqdm in /Users/omarsaaoui/opt/anaconda3/lib/python3.9/site-packages (from nltk>=3.1->textblob) (4.64.1)\n",
      "Requirement already satisfied: joblib in /Users/omarsaaoui/opt/anaconda3/lib/python3.9/site-packages (from nltk>=3.1->textblob) (1.1.0)\n",
      "Requirement already satisfied: click in /Users/omarsaaoui/opt/anaconda3/lib/python3.9/site-packages (from nltk>=3.1->textblob) (8.0.4)\n",
      "Note: you may need to restart the kernel to use updated packages.\n"
     ]
    }
   ],
   "source": [
    "pip install -U textblob"
   ]
  },
  {
   "cell_type": "code",
   "execution_count": 24,
   "id": "6ab18cea",
   "metadata": {},
   "outputs": [],
   "source": [
    "count_vec = CountVectorizer(max_df=0.90,min_df=2,\n",
    "                           max_features=1000,stop_words='english')\n",
    "\n",
    "bagofword_vec = count_vec.fit_transform(data['complaint'])\n",
    "bagofword_vec\n",
    "labels =data.category_id"
   ]
  },
  {
   "cell_type": "code",
   "execution_count": null,
   "id": "d60baa2d",
   "metadata": {},
   "outputs": [],
   "source": [
    "#tfidf = TfidfVectorizer(sublinear_tf=True, min_df=5,\n",
    " #                       ngram_range=(1, 2), \n",
    "  #                      stop_words='english')\n",
    "\n",
    "# We transform each complaint into a vector\n",
    "#features = tfidf.fit_transform(data.complaint).toarray()\n",
    "\n",
    "#labels = data.category_id\n",
    "\n",
    "#print(\"Each of the %d complaints is represented by %d features (TF-IDF score of unigrams and bigrams)\" %(features.shape))"
   ]
  },
  {
   "cell_type": "code",
   "execution_count": 25,
   "id": "fca55b4e",
   "metadata": {},
   "outputs": [],
   "source": [
    "X= data.loc[:, 'complaint']\n",
    "y= data.loc[:, 'category_id']"
   ]
  },
  {
   "cell_type": "code",
   "execution_count": 26,
   "id": "5ad3fe31",
   "metadata": {},
   "outputs": [],
   "source": [
    "X_train, X_test, y_train, y_test,indices_train, indices_test = train_test_split(X,y,data.index,\n",
    "                                                    test_size=0.2)\n",
    "#X_train.shape,X_test.shape"
   ]
  },
  {
   "cell_type": "code",
   "execution_count": 27,
   "id": "0419362b",
   "metadata": {},
   "outputs": [],
   "source": [
    "xtrain_cv = count_vec.fit_transform(X_train)\n",
    "xtest_cv = count_vec.transform(X_test)"
   ]
  },
  {
   "cell_type": "code",
   "execution_count": 36,
   "id": "57c2b13d",
   "metadata": {},
   "outputs": [],
   "source": [
    "from sklearn.tree import DecisionTreeClassifier # Import Decision Tree Classifier"
   ]
  },
  {
   "cell_type": "code",
   "execution_count": 37,
   "id": "567a101f",
   "metadata": {},
   "outputs": [
    {
     "data": {
      "text/plain": [
       "0.6994315490288963"
      ]
     },
     "execution_count": 37,
     "metadata": {},
     "output_type": "execute_result"
    }
   ],
   "source": [
    "# Create Decision Tree classifer object\n",
    "clf = DecisionTreeClassifier()\n",
    "\n",
    "# Train Decision Tree Classifer\n",
    "clf = clf.fit(xtrain_cv,y_train)\n",
    "\n",
    "#Predict the response for test dataset\n",
    "y_pred = clf.predict(xtrain_cv)\n",
    "clf.score(xtest_cv,y_test)"
   ]
  },
  {
   "cell_type": "code",
   "execution_count": 38,
   "id": "d0260187",
   "metadata": {},
   "outputs": [],
   "source": [
    "from sklearn.linear_model import SGDClassifier"
   ]
  },
  {
   "cell_type": "code",
   "execution_count": 39,
   "id": "798529a9",
   "metadata": {},
   "outputs": [
    {
     "name": "stdout",
     "output_type": "stream",
     "text": [
      "CPU times: user 10.2 s, sys: 52.6 ms, total: 10.2 s\n",
      "Wall time: 10.3 s\n"
     ]
    },
    {
     "data": {
      "text/plain": [
       "0.7110966366650876"
      ]
     },
     "execution_count": 39,
     "metadata": {},
     "output_type": "execute_result"
    }
   ],
   "source": [
    "%%time\n",
    "sgdc = SGDClassifier()\n",
    "sgdc.fit(xtrain_cv, y_train)\n",
    "#sgdc.fit(xtrain_cv, y_train)\n",
    "sgdc.score(xtest_cv, y_test)"
   ]
  },
  {
   "cell_type": "code",
   "execution_count": 40,
   "id": "260b16d5",
   "metadata": {},
   "outputs": [],
   "source": [
    "from sklearn.linear_model import LogisticRegression"
   ]
  },
  {
   "cell_type": "code",
   "execution_count": 41,
   "id": "fc3879c5",
   "metadata": {},
   "outputs": [
    {
     "name": "stdout",
     "output_type": "stream",
     "text": [
      "Accuracy: 0.7523685457129322\n",
      "CPU times: user 28.6 s, sys: 901 ms, total: 29.5 s\n",
      "Wall time: 7.71 s\n"
     ]
    }
   ],
   "source": [
    "%%time\n",
    "classifier = LogisticRegression()\n",
    "classifier.fit(xtrain_cv, y_train)\n",
    "score = classifier.score(xtest_cv, y_test)\n",
    "\n",
    "print(\"Accuracy:\", score)"
   ]
  },
  {
   "cell_type": "code",
   "execution_count": 42,
   "id": "e57dc301",
   "metadata": {},
   "outputs": [
    {
     "name": "stdout",
     "output_type": "stream",
     "text": [
      "0.7132579346281384\n",
      "CPU times: user 76.9 ms, sys: 5.32 ms, total: 82.2 ms\n",
      "Wall time: 81.2 ms\n"
     ]
    }
   ],
   "source": [
    "%%time\n",
    "mb = MultinomialNB()\n",
    "mb.fit(xtrain_cv, y_train.ravel())\n",
    "#mb.fit(xtrain_cv,y_train)\n",
    "mbpred = mb.predict(xtest_cv)\n",
    "print(metrics.accuracy_score(y_test,mbpred))"
   ]
  },
  {
   "cell_type": "code",
   "execution_count": 43,
   "id": "9eb97d3f",
   "metadata": {},
   "outputs": [
    {
     "name": "stdout",
     "output_type": "stream",
     "text": [
      "0.8056016106110848\n",
      "CPU times: user 9min 27s, sys: 1.46 s, total: 9min 28s\n",
      "Wall time: 9min 31s\n"
     ]
    }
   ],
   "source": [
    "%%time\n",
    "rf = RandomForestClassifier()\n",
    "rf.fit(xtrain_cv,y_train)\n",
    "print(metrics.accuracy_score(y_test,rf.predict(xtest_cv)))"
   ]
  },
  {
   "cell_type": "code",
   "execution_count": 124,
   "id": "ccb362ee",
   "metadata": {},
   "outputs": [
    {
     "name": "stdout",
     "output_type": "stream",
     "text": [
      "Collecting xgboost\n",
      "  Downloading xgboost-2.0.3-py3-none-macosx_10_15_x86_64.macosx_11_0_x86_64.macosx_12_0_x86_64.whl (2.2 MB)\n",
      "\u001b[2K     \u001b[90m━━━━━━━━━━━━━━━━━━━━━━━━━━━━━━━━━━━━━━━━\u001b[0m \u001b[32m2.2/2.2 MB\u001b[0m \u001b[31m3.0 MB/s\u001b[0m eta \u001b[36m0:00:00\u001b[0m00:01\u001b[0m00:01\u001b[0m\n",
      "\u001b[?25hRequirement already satisfied: numpy in /Users/omarsaaoui/opt/anaconda3/lib/python3.9/site-packages (from xgboost) (1.24.3)\n",
      "Requirement already satisfied: scipy in /Users/omarsaaoui/opt/anaconda3/lib/python3.9/site-packages (from xgboost) (1.9.1)\n",
      "Installing collected packages: xgboost\n",
      "Successfully installed xgboost-2.0.3\n",
      "Note: you may need to restart the kernel to use updated packages.\n"
     ]
    }
   ],
   "source": [
    "pip install xgboost"
   ]
  },
  {
   "cell_type": "code",
   "execution_count": 28,
   "id": "0ca5cef0",
   "metadata": {},
   "outputs": [],
   "source": [
    "import xgboost as xgb"
   ]
  },
  {
   "cell_type": "code",
   "execution_count": 33,
   "id": "bb3dea44",
   "metadata": {},
   "outputs": [
    {
     "name": "stdout",
     "output_type": "stream",
     "text": [
      "Accuracy: 82.21%\n",
      "CPU times: user 5min 22s, sys: 48.8 s, total: 6min 11s\n",
      "Wall time: 49.8 s\n"
     ]
    }
   ],
   "source": [
    "%%time\n",
    "# Train the XGBoost model\n",
    "model = xgb.XGBClassifier(learning_rate =0.3,\n",
    " n_estimators=1000,\n",
    " max_depth=5,\n",
    " n_jobs=-1)\n",
    "model.fit(xtrain_cv, y_train)\n",
    "predictions = model.predict(xtest_cv)\n",
    "# Evaluate the model performance\n",
    "accuracy = metrics.accuracy_score(y_test, predictions)\n",
    "print(\"Accuracy: {:.2f}%\".format(accuracy * 100))"
   ]
  },
  {
   "cell_type": "code",
   "execution_count": 281,
   "id": "401aa4ce",
   "metadata": {},
   "outputs": [],
   "source": [
    "def plot_classification_report(y_true, y_pred, label_list, title= \"Classification report\"):\n",
    "    report = classification_report(y_true, y_pred, labels=label_list, output_dict=True)\n",
    "    df_report = pd.DataFrame(report).transpose()\n",
    "\n",
    "    fig, ax = plt.subplots(figsize=(10, 7))\n",
    "    sns.heatmap(df_report.iloc[:-1, :-1], annot=True)\n",
    "    plt.title(title)\n",
    "\n",
    "    plt.tight_layout()\n",
    "\n",
    "    return fig"
   ]
  },
  {
   "cell_type": "code",
   "execution_count": 304,
   "id": "fd367c44",
   "metadata": {},
   "outputs": [],
   "source": [
    "import matplotlib.figure\n",
    "from sklearn.metrics import confusion_matrix\n",
    "\n",
    "\n",
    "def plot_confusion_matrix(y_true, y_pred, label_list, title= \"Confusion matrix\"):\n",
    "    conf_mat = confusion_matrix(y_true, y_pred, labels=label_list)\n",
    "    print(conf_mat)\n",
    "    fig, ax = plt.subplots()\n",
    "    sns.heatmap(conf_mat, annot=True, fmt=\"d\", xticklabels=label_list, yticklabels=label_list)\n",
    "    plt.ylabel(\"True\")\n",
    "    plt.xlabel(\"Pred\")\n",
    "    plt.title(title)\n",
    "\n",
    "    plt.tight_layout()\n",
    "\n",
    "    return fig"
   ]
  },
  {
   "cell_type": "code",
   "execution_count": 298,
   "id": "2d88eda1",
   "metadata": {},
   "outputs": [
    {
     "data": {
      "text/plain": [
       "{'Checking or savings account': 0,\n",
       " 'Credit card or prepaid card': 1,\n",
       " 'Credit reporting': 2,\n",
       " 'Credit reporting or other personal consumer reports': 3,\n",
       " 'Credit reporting, credit repair services, or other personal consumer reports': 4,\n",
       " 'Debt collection': 5,\n",
       " 'Mortgage': 6,\n",
       " 'Student loan': 7}"
      ]
     },
     "execution_count": 298,
     "metadata": {},
     "output_type": "execute_result"
    }
   ],
   "source": [
    "category_to_id"
   ]
  },
  {
   "cell_type": "code",
   "execution_count": 305,
   "id": "222fd2fc",
   "metadata": {},
   "outputs": [
    {
     "name": "stdout",
     "output_type": "stream",
     "text": [
      "[[3868  223   13    2   21   37   37   16]\n",
      " [ 212 3605   69   25  124  110    8   13]\n",
      " [  17   74 3529   59  270  237   26   22]\n",
      " [  15   62  216 3165  703  118   15   13]\n",
      " [  19  124  539  772 2429  216   58   60]\n",
      " [  54  128  233   58  204 3372   75  101]\n",
      " [  41   39   29    7   22   56 3929   73]\n",
      " [  28   32   53   19   62   93   58 3869]]\n",
      "Mapping from Integers to Categories:  {0: 'Checking or savings account', 1: 'Credit card or prepaid card', 2: 'Credit reporting', 3: 'Credit reporting or other personal consumer reports', 4: 'Credit reporting, credit repair services, or other personal consumer reports', 5: 'Debt collection', 6: 'Mortgage', 7: 'Student loan'}\n"
     ]
    },
    {
     "data": {
      "image/png": "[encoded data removed]",
      "text/plain": [
       "<Figure size 640x480 with 2 Axes>"
      ]
     },
     "metadata": {},
     "output_type": "display_data"
    },
    {
     "data": {
      "image/png": "[encoded data removed]",
      "text/plain": [
       "<Figure size 1000x700 with 2 Axes>"
      ]
     },
     "metadata": {},
     "output_type": "display_data"
    }
   ],
   "source": [
    "y_true = y_test\n",
    "y_pred = predictions\n",
    "label_list = [0,1,2,3,4,5,6,7]\n",
    "\n",
    "fig1 = plot_confusion_matrix(y_true, y_pred, label_list, title=\"My Confusion Matrix\")\n",
    "fig2 = plot_classification_report(y_true, y_pred, label_list, title=\"My Classification Report\")\n",
    "fig1.savefig('confusion_matrix.png')\n",
    "fig2.savefig('classification_report.png')\n",
    "print(\"Mapping from Integers to Categories: \", id_to_category)"
   ]
  },
  {
   "cell_type": "code",
   "execution_count": 276,
   "id": "9f6768a1",
   "metadata": {},
   "outputs": [
    {
     "name": "stdout",
     "output_type": "stream",
     "text": [
      "              precision    recall  f1-score   support\n",
      "\n",
      "           0       0.91      0.92      0.91      4217\n",
      "           1       0.84      0.87      0.85      4166\n",
      "           2       0.75      0.83      0.79      4234\n",
      "           3       0.77      0.73      0.75      4307\n",
      "           4       0.63      0.58      0.60      4217\n",
      "           5       0.80      0.80      0.80      4225\n",
      "           6       0.93      0.94      0.94      4196\n",
      "           7       0.93      0.92      0.92      4214\n",
      "\n",
      "    accuracy                           0.82     33776\n",
      "   macro avg       0.82      0.82      0.82     33776\n",
      "weighted avg       0.82      0.82      0.82     33776\n",
      "\n"
     ]
    }
   ],
   "source": [
    "# Classification Report\n",
    "from sklearn.metrics import classification_report\n",
    "sampleClassificationReport= classification_report(y_test, predictions)\n",
    "print(classification_report(y_test, predictions))\n"
   ]
  },
  {
   "cell_type": "code",
   "execution_count": 303,
   "id": "fed2eb49",
   "metadata": {},
   "outputs": [],
   "source": []
  },
  {
   "cell_type": "code",
   "execution_count": null,
   "id": "37993f07",
   "metadata": {},
   "outputs": [],
   "source": []
  },
  {
   "cell_type": "code",
   "execution_count": 39,
   "id": "0fe56e2d",
   "metadata": {},
   "outputs": [],
   "source": [
    "from nltk.stem import PorterStemmer"
   ]
  },
  {
   "cell_type": "code",
   "execution_count": 58,
   "id": "b9a7c809",
   "metadata": {},
   "outputs": [],
   "source": [
    "def stemmer(text):\n",
    "    stems=[]\n",
    "    ps= PorterStemmer()\n",
    "    for w in text.split():\n",
    "        root_word= ps.stem(w)\n",
    "        stems.append(root_word)\n",
    "    return ' '.join(stems)"
   ]
  },
  {
   "cell_type": "code",
   "execution_count": 49,
   "id": "60e9f454",
   "metadata": {},
   "outputs": [],
   "source": [
    "example= data[\"complaint\"].iloc[0]"
   ]
  },
  {
   "cell_type": "code",
   "execution_count": 68,
   "id": "b8c6a178",
   "metadata": {},
   "outputs": [
    {
     "name": "stderr",
     "output_type": "stream",
     "text": [
      "[nltk_data] Downloading package wordnet to\n",
      "[nltk_data]     /Users/omarsaaoui/nltk_data...\n",
      "[nltk_data]   Package wordnet is already up-to-date!\n"
     ]
    }
   ],
   "source": [
    "nltk.download('wordnet')\n",
    "from nltk.stem import WordNetLemmatizer"
   ]
  },
  {
   "cell_type": "code",
   "execution_count": null,
   "id": "8026b77a",
   "metadata": {},
   "outputs": [],
   "source": []
  },
  {
   "cell_type": "code",
   "execution_count": 69,
   "id": "299f3c88",
   "metadata": {},
   "outputs": [],
   "source": [
    "lemma=WordNetLemmatizer()\n",
    "\n",
    "def lemmatizing(sentence):\n",
    "    stemSentence = \"\"\n",
    "    for word in sentence.split():\n",
    "        stem = lemma.lemmatize(word)\n",
    "        stemSentence += stem\n",
    "        stemSentence += \" \"\n",
    "    stemSentence = stemSentence.strip()\n",
    "    return stemSentence"
   ]
  },
  {
   "cell_type": "code",
   "execution_count": 72,
   "id": "58a5eae2",
   "metadata": {},
   "outputs": [
    {
     "name": "stderr",
     "output_type": "stream",
     "text": [
      "Warming up PyWSD (takes ~10 secs)... took 1.9375109672546387 secs.\n"
     ]
    }
   ],
   "source": [
    "from pywsd.utils import lemmatize_sentence"
   ]
  },
  {
   "cell_type": "markdown",
   "id": "e52e298e",
   "metadata": {},
   "source": [
    "### Issues"
   ]
  },
  {
   "cell_type": "code",
   "execution_count": 30,
   "id": "b3c44430",
   "metadata": {},
   "outputs": [
    {
     "data": {
      "text/html": [
       "<div>\n",
       "<style scoped>\n",
       "    .dataframe tbody tr th:only-of-type {\n",
       "        vertical-align: middle;\n",
       "    }\n",
       "\n",
       "    .dataframe tbody tr th {\n",
       "        vertical-align: top;\n",
       "    }\n",
       "\n",
       "    .dataframe thead th {\n",
       "        text-align: right;\n",
       "    }\n",
       "</style>\n",
       "<table border=\"1\" class=\"dataframe\">\n",
       "  <thead>\n",
       "    <tr style=\"text-align: right;\">\n",
       "      <th></th>\n",
       "      <th>category</th>\n",
       "      <th>complaint</th>\n",
       "      <th>Issue</th>\n",
       "      <th>category_id</th>\n",
       "    </tr>\n",
       "  </thead>\n",
       "  <tbody>\n",
       "    <tr>\n",
       "      <th>0</th>\n",
       "      <td>Checking or savings account</td>\n",
       "      <td>opened capital one  checking account month ago...</td>\n",
       "      <td>Managing an account</td>\n",
       "      <td>0</td>\n",
       "    </tr>\n",
       "    <tr>\n",
       "      <th>1</th>\n",
       "      <td>Checking or savings account</td>\n",
       "      <td>around xxxx received called sister xxxx xxxx ...</td>\n",
       "      <td>Managing an account</td>\n",
       "      <td>0</td>\n",
       "    </tr>\n",
       "    <tr>\n",
       "      <th>2</th>\n",
       "      <td>Checking or savings account</td>\n",
       "      <td>xxxx xxxx  fraudulently taken wells fargo savi...</td>\n",
       "      <td>Managing an account</td>\n",
       "      <td>0</td>\n",
       "    </tr>\n",
       "  </tbody>\n",
       "</table>\n",
       "</div>"
      ],
      "text/plain": [
       "                      category  \\\n",
       "0  Checking or savings account   \n",
       "1  Checking or savings account   \n",
       "2  Checking or savings account   \n",
       "\n",
       "                                           complaint                Issue  \\\n",
       "0  opened capital one  checking account month ago...  Managing an account   \n",
       "1   around xxxx received called sister xxxx xxxx ...  Managing an account   \n",
       "2  xxxx xxxx  fraudulently taken wells fargo savi...  Managing an account   \n",
       "\n",
       "   category_id  \n",
       "0            0  \n",
       "1            0  \n",
       "2            0  "
      ]
     },
     "execution_count": 30,
     "metadata": {},
     "output_type": "execute_result"
    }
   ],
   "source": [
    "data.iloc"
   ]
  },
  {
   "cell_type": "code",
   "execution_count": 31,
   "id": "7a3d9d9b",
   "metadata": {},
   "outputs": [
    {
     "data": {
      "text/plain": [
       "Incorrect information on your report                                                21665\n",
       "Incorrect information on credit report                                              21110\n",
       "Managing an account                                                                 20971\n",
       "Dealing with your lender or servicer                                                19118\n",
       "Problem with a purchase shown on your statement                                     15787\n",
       "Trouble during payment process                                                      13392\n",
       "Improper use of your report                                                         12411\n",
       "Problem with a credit reporting company's investigation into an existing problem    10878\n",
       "Attempts to collect debt not owed                                                    9090\n",
       "Struggling to pay mortgage                                                           6867\n",
       "Problem with a company's investigation into an existing problem                      5571\n",
       "Written notification about debt                                                      3553\n",
       "False statements or representation                                                   2393\n",
       "Communication tactics                                                                2291\n",
       "Took or threatened to take negative or legal action                                  2028\n",
       "Cont'd attempts collect debt not owed                                                1755\n",
       "Name: Issue, dtype: int64"
      ]
     },
     "execution_count": 31,
     "metadata": {},
     "output_type": "execute_result"
    }
   ],
   "source": [
    "df_balanced.Issue.value_counts()"
   ]
  },
  {
   "cell_type": "code",
   "execution_count": 48,
   "id": "192c5ee7",
   "metadata": {},
   "outputs": [],
   "source": [
    "data2= pd.DataFrame(data, columns=['complaint', 'Issue'])"
   ]
  },
  {
   "cell_type": "code",
   "execution_count": 49,
   "id": "757e3f22",
   "metadata": {},
   "outputs": [
    {
     "data": {
      "text/html": [
       "<div>\n",
       "<style scoped>\n",
       "    .dataframe tbody tr th:only-of-type {\n",
       "        vertical-align: middle;\n",
       "    }\n",
       "\n",
       "    .dataframe tbody tr th {\n",
       "        vertical-align: top;\n",
       "    }\n",
       "\n",
       "    .dataframe thead th {\n",
       "        text-align: right;\n",
       "    }\n",
       "</style>\n",
       "<table border=\"1\" class=\"dataframe\">\n",
       "  <thead>\n",
       "    <tr style=\"text-align: right;\">\n",
       "      <th></th>\n",
       "      <th>complaint</th>\n",
       "      <th>Issue</th>\n",
       "    </tr>\n",
       "  </thead>\n",
       "  <tbody>\n",
       "    <tr>\n",
       "      <th>0</th>\n",
       "      <td>wells fargo bank account timeframe listed sett...</td>\n",
       "      <td>Managing an account</td>\n",
       "    </tr>\n",
       "    <tr>\n",
       "      <th>1</th>\n",
       "      <td>opened pnc account  part account opening inclu...</td>\n",
       "      <td>Managing an account</td>\n",
       "    </tr>\n",
       "  </tbody>\n",
       "</table>\n",
       "</div>"
      ],
      "text/plain": [
       "                                           complaint                Issue\n",
       "0  wells fargo bank account timeframe listed sett...  Managing an account\n",
       "1  opened pnc account  part account opening inclu...  Managing an account"
      ]
     },
     "execution_count": 49,
     "metadata": {},
     "output_type": "execute_result"
    }
   ],
   "source": [
    "data2.head(2)"
   ]
  },
  {
   "cell_type": "code",
   "execution_count": 50,
   "id": "42e76b69",
   "metadata": {},
   "outputs": [],
   "source": [
    "# Encoder la variable cible \"category\"\n",
    "data2[\"issue_id\"]= data2[\"Issue\"].factorize()[0]"
   ]
  },
  {
   "cell_type": "code",
   "execution_count": 51,
   "id": "48de636c",
   "metadata": {},
   "outputs": [],
   "source": [
    "category_id_df_issue = data2[['Issue', 'issue_id']].drop_duplicates()"
   ]
  },
  {
   "cell_type": "code",
   "execution_count": 52,
   "id": "b31eaf57",
   "metadata": {},
   "outputs": [],
   "source": [
    "category_to_id_issue = dict(category_id_df_issue.values)\n",
    "id_to_category_issue = dict(category_id_df_issue[['issue_id', 'Issue']].values)"
   ]
  },
  {
   "cell_type": "code",
   "execution_count": 53,
   "id": "b32cdc0c",
   "metadata": {},
   "outputs": [],
   "source": [
    "X_issue= data2.loc[:, 'complaint']\n",
    "y_issue= data2.loc[:, 'issue_id']"
   ]
  },
  {
   "cell_type": "code",
   "execution_count": 54,
   "id": "88af3953",
   "metadata": {},
   "outputs": [
    {
     "data": {
      "text/plain": [
       "((135104,), (33776,))"
      ]
     },
     "execution_count": 54,
     "metadata": {},
     "output_type": "execute_result"
    }
   ],
   "source": [
    "X_train_issue, X_test_issue, y_train_issue, y_test_issue = train_test_split(X_issue,y_issue,\n",
    "                                                    test_size=0.2)\n",
    "X_train_issue.shape,X_test_issue.shape"
   ]
  },
  {
   "cell_type": "code",
   "execution_count": 55,
   "id": "0418158a",
   "metadata": {},
   "outputs": [
    {
     "data": {
      "text/plain": [
       "(135104, 1000)"
      ]
     },
     "execution_count": 55,
     "metadata": {},
     "output_type": "execute_result"
    }
   ],
   "source": [
    "xtrain_cv_issue = count_vec.fit_transform(X_train_issue)\n",
    "xtest_cv_issue = count_vec.transform(X_test_issue)\n",
    "xtrain_cv_issue.shape"
   ]
  },
  {
   "cell_type": "code",
   "execution_count": 124,
   "id": "3fd4687f",
   "metadata": {},
   "outputs": [
    {
     "data": {
      "text/plain": [
       "0.6287896731406916"
      ]
     },
     "execution_count": 124,
     "metadata": {},
     "output_type": "execute_result"
    }
   ],
   "source": [
    "# Create Decision Tree classifer object\n",
    "clf_issue = DecisionTreeClassifier()\n",
    "\n",
    "# Train Decision Tree Classifer\n",
    "clf_issue = clf_issue.fit(xtrain_cv_issue,y_train_issue)\n",
    "\n",
    "#Predict the response for test dataset\n",
    "#y_pred = clf_issue.predict(X_train_issue)\n",
    "clf_issue.score(xtest_cv_issue,y_test_issue)"
   ]
  },
  {
   "cell_type": "code",
   "execution_count": 127,
   "id": "99681649",
   "metadata": {},
   "outputs": [
    {
     "name": "stdout",
     "output_type": "stream",
     "text": [
      "CPU times: user 15.5 s, sys: 72.8 ms, total: 15.6 s\n",
      "Wall time: 15.7 s\n"
     ]
    },
    {
     "data": {
      "text/plain": [
       "0.6392408810990052"
      ]
     },
     "execution_count": 127,
     "metadata": {},
     "output_type": "execute_result"
    }
   ],
   "source": [
    "%%time\n",
    "from sklearn.linear_model import SGDClassifier\n",
    "\n",
    "sgdc_issue = SGDClassifier()\n",
    "sgdc_issue.fit(xtrain_cv_issue, y_train_issue)\n",
    "sgdc_issue.score(xtest_cv_issue, y_test_issue)"
   ]
  },
  {
   "cell_type": "code",
   "execution_count": 128,
   "id": "c06ff6f6",
   "metadata": {},
   "outputs": [
    {
     "name": "stdout",
     "output_type": "stream",
     "text": [
      "Accuracy: 0.6808680720037896\n",
      "CPU times: user 34.9 s, sys: 38.3 s, total: 1min 13s\n",
      "Wall time: 10.3 s\n"
     ]
    }
   ],
   "source": [
    "%%time\n",
    "classifier_issue = LogisticRegression()\n",
    "classifier_issue.fit(xtrain_cv_issue, y_train_issue)\n",
    "score_issue = classifier_issue.score(xtest_cv_issue, y_test_issue)\n",
    "\n",
    "print(\"Accuracy:\", score_issue)"
   ]
  },
  {
   "cell_type": "code",
   "execution_count": 129,
   "id": "924f61e6",
   "metadata": {},
   "outputs": [
    {
     "name": "stdout",
     "output_type": "stream",
     "text": [
      "0.6457839886309806\n",
      "CPU times: user 81.4 ms, sys: 41.1 ms, total: 122 ms\n",
      "Wall time: 126 ms\n"
     ]
    }
   ],
   "source": [
    "%%time\n",
    "mb_issue = MultinomialNB()\n",
    "mb_issue.fit(xtrain_cv_issue,y_train_issue)\n",
    "mbpred_issue = mb_issue.predict(xtest_cv_issue)\n",
    "print(metrics.accuracy_score(y_test_issue,mbpred_issue))"
   ]
  },
  {
   "cell_type": "code",
   "execution_count": 130,
   "id": "ed99aa62",
   "metadata": {},
   "outputs": [
    {
     "name": "stdout",
     "output_type": "stream",
     "text": [
      "0.7398744670772146\n",
      "CPU times: user 9min 52s, sys: 2.1 s, total: 9min 54s\n",
      "Wall time: 9min 57s\n"
     ]
    }
   ],
   "source": [
    "%%time\n",
    "rf_issue = RandomForestClassifier()\n",
    "rf_issue.fit(xtrain_cv_issue,y_train_issue)\n",
    "print(metrics.accuracy_score(y_test_issue,rf_issue.predict(xtest_cv_issue)))"
   ]
  },
  {
   "cell_type": "code",
   "execution_count": 56,
   "id": "f2adfecf",
   "metadata": {},
   "outputs": [
    {
     "name": "stdout",
     "output_type": "stream",
     "text": [
      "Accuracy: 73.55%\n",
      "CPU times: user 1min 39s, sys: 14.8 s, total: 1min 54s\n",
      "Wall time: 15.9 s\n"
     ]
    }
   ],
   "source": [
    "%%time\n",
    "# Train the XGBoost model\n",
    "model_issue = xgb.XGBClassifier(n_jobs=-1)\n",
    "model_issue.fit(xtrain_cv_issue, y_train_issue)\n",
    "predictions_issue = model_issue.predict(xtest_cv_issue)\n",
    "# Evaluate the model performance\n",
    "accuracy_issue = metrics.accuracy_score(y_test_issue, predictions_issue)\n",
    "print(\"Accuracy: {:.2f}%\".format(accuracy_issue * 100))"
   ]
  },
  {
   "cell_type": "code",
   "execution_count": 85,
   "id": "ea33ddad",
   "metadata": {},
   "outputs": [],
   "source": [
    "example= data2['complaint'].iloc[50000]"
   ]
  },
  {
   "cell_type": "code",
   "execution_count": 86,
   "id": "452e1248",
   "metadata": {},
   "outputs": [
    {
     "data": {
      "text/plain": [
       "'divorce decree indicate ex wife pay medical expenses created children collection placed report resulting failure pay medical bills daughter disputed issue experian sent report stating collection remain work payment arrangement creditor'"
      ]
     },
     "execution_count": 86,
     "metadata": {},
     "output_type": "execute_result"
    }
   ],
   "source": [
    "example"
   ]
  },
  {
   "cell_type": "code",
   "execution_count": 87,
   "id": "03d00bcf",
   "metadata": {},
   "outputs": [],
   "source": [
    "example= count_vec.transform([example])"
   ]
  },
  {
   "cell_type": "code",
   "execution_count": 88,
   "id": "eb649fc9",
   "metadata": {},
   "outputs": [
    {
     "data": {
      "text/plain": [
       "array([6])"
      ]
     },
     "execution_count": 88,
     "metadata": {},
     "output_type": "execute_result"
    }
   ],
   "source": [
    "model_issue.predict(example)"
   ]
  },
  {
   "cell_type": "code",
   "execution_count": 67,
   "id": "e3c4d00c",
   "metadata": {},
   "outputs": [
    {
     "data": {
      "text/plain": [
       "{'Managing an account': 0,\n",
       " 'Incorrect information on your report': 1,\n",
       " 'Improper use of your report': 2,\n",
       " \"Problem with a credit reporting company's investigation into an existing problem\": 3,\n",
       " \"Problem with a company's investigation into an existing problem\": 4,\n",
       " 'Problem with a purchase shown on your statement': 5,\n",
       " 'Incorrect information on credit report': 6,\n",
       " 'Written notification about debt': 7,\n",
       " 'Attempts to collect debt not owed': 8,\n",
       " \"Cont'd attempts collect debt not owed\": 9,\n",
       " 'False statements or representation': 10,\n",
       " 'Took or threatened to take negative or legal action': 11,\n",
       " 'Communication tactics': 12,\n",
       " 'Trouble during payment process': 13,\n",
       " 'Struggling to pay mortgage': 14,\n",
       " 'Dealing with your lender or servicer': 15}"
      ]
     },
     "execution_count": 67,
     "metadata": {},
     "output_type": "execute_result"
    }
   ],
   "source": [
    "category_to_id_issue\n",
    "#id_to_category_issue"
   ]
  },
  {
   "cell_type": "code",
   "execution_count": 84,
   "id": "be383d35",
   "metadata": {},
   "outputs": [
    {
     "data": {
      "text/plain": [
       "complaint    divorce decree indicate ex wife pay medical ex...\n",
       "Issue                   Incorrect information on credit report\n",
       "issue_id                                                     6\n",
       "Name: 7780, dtype: object"
      ]
     },
     "execution_count": 84,
     "metadata": {},
     "output_type": "execute_result"
    }
   ],
   "source": [
    "data2.iloc[50000]"
   ]
  },
  {
   "cell_type": "markdown",
   "id": "f3e4c385",
   "metadata": {},
   "source": [
    "### Evidently AI"
   ]
  },
  {
   "cell_type": "code",
   "execution_count": 132,
   "id": "8e962fc0",
   "metadata": {},
   "outputs": [
    {
     "name": "stdout",
     "output_type": "stream",
     "text": [
      "Collecting evidently\n",
      "  Downloading evidently-0.4.12-py3-none-any.whl (16.6 MB)\n",
      "\u001b[2K     \u001b[90m━━━━━━━━━━━━━━━━━━━━━━━━━━━━━━━━━━━━━━━━\u001b[0m \u001b[32m16.6/16.6 MB\u001b[0m \u001b[31m3.0 MB/s\u001b[0m eta \u001b[36m0:00:00\u001b[0m00:01\u001b[0m00:01\u001b[0m\n",
      "\u001b[?25hCollecting uvicorn>=0.22.0\n",
      "  Downloading uvicorn-0.25.0-py3-none-any.whl (60 kB)\n",
      "\u001b[2K     \u001b[90m━━━━━━━━━━━━━━━━━━━━━━━━━━━━━━━━━━━━━━━━\u001b[0m \u001b[32m60.3/60.3 kB\u001b[0m \u001b[31m2.2 MB/s\u001b[0m eta \u001b[36m0:00:00\u001b[0m\n",
      "\u001b[?25hCollecting rich>=13\n",
      "  Downloading rich-13.7.0-py3-none-any.whl (240 kB)\n",
      "\u001b[2K     \u001b[90m━━━━━━━━━━━━━━━━━━━━━━━━━━━━━━━━━━━━━━━\u001b[0m \u001b[32m240.6/240.6 kB\u001b[0m \u001b[31m2.6 MB/s\u001b[0m eta \u001b[36m0:00:00\u001b[0ma \u001b[36m0:00:01\u001b[0m\n",
      "\u001b[?25hCollecting fastapi-restful>=0.5.0\n",
      "  Downloading fastapi_restful-0.5.0-py3-none-any.whl (18 kB)\n",
      "Collecting typing-inspect>=0.9.0\n",
      "  Downloading typing_inspect-0.9.0-py3-none-any.whl (8.8 kB)\n",
      "Collecting watchdog>=3\n",
      "  Downloading watchdog-3.0.0-cp39-cp39-macosx_10_9_x86_64.whl (91 kB)\n",
      "\u001b[2K     \u001b[90m━━━━━━━━━━━━━━━━━━━━━━━━━━━━━━━━━━━━━━━━\u001b[0m \u001b[32m91.2/91.2 kB\u001b[0m \u001b[31m2.5 MB/s\u001b[0m eta \u001b[36m0:00:00\u001b[0m\n",
      "\u001b[?25hRequirement already satisfied: pandas[parquet]>=1.3.5 in /Users/omarsaaoui/opt/anaconda3/lib/python3.9/site-packages (from evidently) (1.4.4)\n",
      "Requirement already satisfied: statsmodels>=0.12.2 in /Users/omarsaaoui/opt/anaconda3/lib/python3.9/site-packages (from evidently) (0.13.2)\n",
      "Requirement already satisfied: scikit-learn>=0.24.0 in /Users/omarsaaoui/opt/anaconda3/lib/python3.9/site-packages (from evidently) (1.0.2)\n",
      "Requirement already satisfied: PyYAML>=5.1 in /Users/omarsaaoui/opt/anaconda3/lib/python3.9/site-packages (from evidently) (6.0)\n",
      "Requirement already satisfied: fsspec in /Users/omarsaaoui/opt/anaconda3/lib/python3.9/site-packages (from evidently) (2022.7.1)\n",
      "Requirement already satisfied: plotly>=5.5.0 in /Users/omarsaaoui/opt/anaconda3/lib/python3.9/site-packages (from evidently) (5.9.0)\n",
      "Requirement already satisfied: nltk>=3.6.7 in /Users/omarsaaoui/opt/anaconda3/lib/python3.9/site-packages (from evidently) (3.7)\n",
      "Requirement already satisfied: requests>=2.21.0 in /Users/omarsaaoui/opt/anaconda3/lib/python3.9/site-packages (from evidently) (2.28.1)\n",
      "Collecting iterative-telemetry>=0.0.5\n",
      "  Downloading iterative_telemetry-0.0.8-py3-none-any.whl (10 kB)\n",
      "Collecting fastapi>=0.100.0\n",
      "  Downloading fastapi-0.108.0-py3-none-any.whl (92 kB)\n",
      "\u001b[2K     \u001b[90m━━━━━━━━━━━━━━━━━━━━━━━━━━━━━━━━━━━━━━━━\u001b[0m \u001b[32m92.0/92.0 kB\u001b[0m \u001b[31m2.8 MB/s\u001b[0m eta \u001b[36m0:00:00\u001b[0m\n",
      "\u001b[?25hRequirement already satisfied: scipy>=1.5.4 in /Users/omarsaaoui/opt/anaconda3/lib/python3.9/site-packages (from evidently) (1.9.1)\n",
      "Collecting typer>=0.3\n",
      "  Downloading typer-0.9.0-py3-none-any.whl (45 kB)\n",
      "\u001b[2K     \u001b[90m━━━━━━━━━━━━━━━━━━━━━━━━━━━━━━━━━━━━━━━━\u001b[0m \u001b[32m45.9/45.9 kB\u001b[0m \u001b[31m2.1 MB/s\u001b[0m eta \u001b[36m0:00:00\u001b[0m\n",
      "\u001b[?25hCollecting pydantic<2\n",
      "  Downloading pydantic-1.10.13-cp39-cp39-macosx_10_9_x86_64.whl (2.9 MB)\n",
      "\u001b[2K     \u001b[90m━━━━━━━━━━━━━━━━━━━━━━━━━━━━━━━━━━━━━━━━\u001b[0m \u001b[32m2.9/2.9 MB\u001b[0m \u001b[31m3.0 MB/s\u001b[0m eta \u001b[36m0:00:00\u001b[0m00:01\u001b[0m00:01\u001b[0m\n",
      "\u001b[?25hRequirement already satisfied: numpy>=1.19.5 in /Users/omarsaaoui/opt/anaconda3/lib/python3.9/site-packages (from evidently) (1.24.3)\n",
      "Collecting typing-extensions>=4.8.0\n",
      "  Downloading typing_extensions-4.9.0-py3-none-any.whl (32 kB)\n",
      "Collecting starlette<0.33.0,>=0.29.0\n",
      "  Downloading starlette-0.32.0.post1-py3-none-any.whl (70 kB)\n",
      "\u001b[2K     \u001b[90m━━━━━━━━━━━━━━━━━━━━━━━━━━━━━━━━━━━━━━━━\u001b[0m \u001b[32m70.0/70.0 kB\u001b[0m \u001b[31m2.5 MB/s\u001b[0m eta \u001b[36m0:00:00\u001b[0m\n",
      "\u001b[?25hRequirement already satisfied: psutil<6,>=5 in /Users/omarsaaoui/opt/anaconda3/lib/python3.9/site-packages (from fastapi-restful>=0.5.0->evidently) (5.9.0)\n",
      "Collecting distro\n",
      "  Downloading distro-1.9.0-py3-none-any.whl (20 kB)\n",
      "Requirement already satisfied: appdirs in /Users/omarsaaoui/opt/anaconda3/lib/python3.9/site-packages (from iterative-telemetry>=0.0.5->evidently) (1.4.4)\n",
      "Requirement already satisfied: filelock in /Users/omarsaaoui/opt/anaconda3/lib/python3.9/site-packages (from iterative-telemetry>=0.0.5->evidently) (3.6.0)\n",
      "Requirement already satisfied: regex>=2021.8.3 in /Users/omarsaaoui/opt/anaconda3/lib/python3.9/site-packages (from nltk>=3.6.7->evidently) (2022.7.9)\n",
      "Requirement already satisfied: tqdm in /Users/omarsaaoui/opt/anaconda3/lib/python3.9/site-packages (from nltk>=3.6.7->evidently) (4.64.1)\n",
      "Requirement already satisfied: click in /Users/omarsaaoui/opt/anaconda3/lib/python3.9/site-packages (from nltk>=3.6.7->evidently) (8.0.4)\n",
      "Requirement already satisfied: joblib in /Users/omarsaaoui/opt/anaconda3/lib/python3.9/site-packages (from nltk>=3.6.7->evidently) (1.1.0)\n",
      "\u001b[33mWARNING: pandas 1.4.4 does not provide the extra 'parquet'\u001b[0m\u001b[33m\n",
      "\u001b[0mRequirement already satisfied: python-dateutil>=2.8.1 in /Users/omarsaaoui/opt/anaconda3/lib/python3.9/site-packages (from pandas[parquet]>=1.3.5->evidently) (2.8.2)\n",
      "Requirement already satisfied: pytz>=2020.1 in /Users/omarsaaoui/opt/anaconda3/lib/python3.9/site-packages (from pandas[parquet]>=1.3.5->evidently) (2022.1)\n",
      "Requirement already satisfied: tenacity>=6.2.0 in /Users/omarsaaoui/opt/anaconda3/lib/python3.9/site-packages (from plotly>=5.5.0->evidently) (8.0.1)\n",
      "Requirement already satisfied: urllib3<1.27,>=1.21.1 in /Users/omarsaaoui/opt/anaconda3/lib/python3.9/site-packages (from requests>=2.21.0->evidently) (1.26.11)\n",
      "Requirement already satisfied: charset-normalizer<3,>=2 in /Users/omarsaaoui/opt/anaconda3/lib/python3.9/site-packages (from requests>=2.21.0->evidently) (2.0.4)\n",
      "Requirement already satisfied: idna<4,>=2.5 in /Users/omarsaaoui/opt/anaconda3/lib/python3.9/site-packages (from requests>=2.21.0->evidently) (3.3)\n",
      "Requirement already satisfied: certifi>=2017.4.17 in /Users/omarsaaoui/opt/anaconda3/lib/python3.9/site-packages (from requests>=2.21.0->evidently) (2022.9.24)\n",
      "Collecting markdown-it-py>=2.2.0\n",
      "  Downloading markdown_it_py-3.0.0-py3-none-any.whl (87 kB)\n",
      "\u001b[2K     \u001b[90m━━━━━━━━━━━━━━━━━━━━━━━━━━━━━━━━━━━━━━━━\u001b[0m \u001b[32m87.5/87.5 kB\u001b[0m \u001b[31m2.6 MB/s\u001b[0m eta \u001b[36m0:00:00\u001b[0m\n",
      "\u001b[?25hCollecting pygments<3.0.0,>=2.13.0\n",
      "  Using cached pygments-2.17.2-py3-none-any.whl (1.2 MB)\n",
      "Requirement already satisfied: threadpoolctl>=2.0.0 in /Users/omarsaaoui/opt/anaconda3/lib/python3.9/site-packages (from scikit-learn>=0.24.0->evidently) (2.2.0)\n",
      "Requirement already satisfied: packaging>=21.3 in /Users/omarsaaoui/opt/anaconda3/lib/python3.9/site-packages (from statsmodels>=0.12.2->evidently) (21.3)\n",
      "Requirement already satisfied: patsy>=0.5.2 in /Users/omarsaaoui/opt/anaconda3/lib/python3.9/site-packages (from statsmodels>=0.12.2->evidently) (0.5.2)\n",
      "Requirement already satisfied: mypy-extensions>=0.3.0 in /Users/omarsaaoui/opt/anaconda3/lib/python3.9/site-packages (from typing-inspect>=0.9.0->evidently) (0.4.3)\n",
      "Collecting h11>=0.8\n",
      "  Downloading h11-0.14.0-py3-none-any.whl (58 kB)\n",
      "\u001b[2K     \u001b[90m━━━━━━━━━━━━━━━━━━━━━━━━━━━━━━━━━━━━━━━━\u001b[0m \u001b[32m58.3/58.3 kB\u001b[0m \u001b[31m1.4 MB/s\u001b[0m eta \u001b[36m0:00:00\u001b[0m\n",
      "\u001b[?25hCollecting mdurl~=0.1\n",
      "  Downloading mdurl-0.1.2-py3-none-any.whl (10.0 kB)\n",
      "Requirement already satisfied: pyparsing!=3.0.5,>=2.0.2 in /Users/omarsaaoui/opt/anaconda3/lib/python3.9/site-packages (from packaging>=21.3->statsmodels>=0.12.2->evidently) (3.0.9)\n",
      "Requirement already satisfied: six in /Users/omarsaaoui/opt/anaconda3/lib/python3.9/site-packages (from patsy>=0.5.2->statsmodels>=0.12.2->evidently) (1.16.0)\n",
      "Requirement already satisfied: anyio<5,>=3.4.0 in /Users/omarsaaoui/opt/anaconda3/lib/python3.9/site-packages (from starlette<0.33.0,>=0.29.0->fastapi>=0.100.0->evidently) (3.5.0)\n",
      "Requirement already satisfied: sniffio>=1.1 in /Users/omarsaaoui/opt/anaconda3/lib/python3.9/site-packages (from anyio<5,>=3.4.0->starlette<0.33.0,>=0.29.0->fastapi>=0.100.0->evidently) (1.2.0)\n",
      "Installing collected packages: watchdog, typing-extensions, pygments, mdurl, h11, distro, uvicorn, typing-inspect, typer, starlette, pydantic, markdown-it-py, iterative-telemetry, rich, fastapi, fastapi-restful, evidently\n",
      "  Attempting uninstall: watchdog\n",
      "    Found existing installation: watchdog 2.1.6\n",
      "    Uninstalling watchdog-2.1.6:\n",
      "      Successfully uninstalled watchdog-2.1.6\n",
      "  Attempting uninstall: typing-extensions\n",
      "    Found existing installation: typing_extensions 4.3.0\n",
      "    Uninstalling typing_extensions-4.3.0:\n",
      "      Successfully uninstalled typing_extensions-4.3.0\n",
      "  Attempting uninstall: pygments\n",
      "    Found existing installation: Pygments 2.11.2\n",
      "    Uninstalling Pygments-2.11.2:\n",
      "      Successfully uninstalled Pygments-2.11.2\n",
      "\u001b[31mERROR: pip's dependency resolver does not currently take into account all the packages that are installed. This behaviour is the source of the following dependency conflicts.\n",
      "spyder 5.3.3 requires pyqt5<5.16, which is not installed.\n",
      "spyder 5.3.3 requires pyqtwebengine<5.16, which is not installed.\n",
      "tensorflow 2.13.0 requires typing-extensions<4.6.0,>=3.6.6, but you have typing-extensions 4.9.0 which is incompatible.\u001b[0m\u001b[31m\n",
      "\u001b[0mSuccessfully installed distro-1.9.0 evidently-0.4.12 fastapi-0.108.0 fastapi-restful-0.5.0 h11-0.14.0 iterative-telemetry-0.0.8 markdown-it-py-3.0.0 mdurl-0.1.2 pydantic-1.10.13 pygments-2.17.2 rich-13.7.0 starlette-0.32.0.post1 typer-0.9.0 typing-extensions-4.9.0 typing-inspect-0.9.0 uvicorn-0.25.0 watchdog-3.0.0\n",
      "Note: you may need to restart the kernel to use updated packages.\n"
     ]
    }
   ],
   "source": [
    "pip install evidently"
   ]
  },
  {
   "cell_type": "code",
   "execution_count": 1,
   "id": "65a19220",
   "metadata": {},
   "outputs": [
    {
     "data": {
      "text/plain": [
       "'0.4.12'"
      ]
     },
     "execution_count": 1,
     "metadata": {},
     "output_type": "execute_result"
    }
   ],
   "source": [
    "import evidently\n",
    "evidently.__version__"
   ]
  },
  {
   "cell_type": "code",
   "execution_count": 6,
   "id": "a8ded08c",
   "metadata": {},
   "outputs": [
    {
     "name": "stdout",
     "output_type": "stream",
     "text": [
      "Installing /Users/omarsaaoui/opt/anaconda3/lib/python3.9/site-packages/evidently/nbextension/static -> evidently\n",
      "Removing: /Users/omarsaaoui/opt/anaconda3/share/jupyter/nbextensions/evidently\n",
      "Symlinking: /Users/omarsaaoui/opt/anaconda3/share/jupyter/nbextensions/evidently -> /Users/omarsaaoui/opt/anaconda3/lib/python3.9/site-packages/evidently/nbextension/static\n",
      "- Validating: \u001b[32mOK\u001b[0m\n",
      "\n",
      "    To initialize this nbextension in the browser every time the notebook (or other app) loads:\n",
      "    \n",
      "          jupyter nbextension enable evidently --py --sys-prefix\n",
      "    \n"
     ]
    }
   ],
   "source": [
    "!jupyter nbextension install --sys-prefix --symlink --overwrite --py evidently"
   ]
  },
  {
   "cell_type": "code",
   "execution_count": 136,
   "id": "638fd53f",
   "metadata": {},
   "outputs": [
    {
     "name": "stdout",
     "output_type": "stream",
     "text": [
      "Collecting jupyter_contrib_nbextensions\n",
      "  Downloading jupyter_contrib_nbextensions-0.7.0.tar.gz (23.5 MB)\n",
      "\u001b[2K     \u001b[90m━━━━━━━━━━━━━━━━━━━━━━━━━━━━━━━━━━━━━━━━\u001b[0m \u001b[32m23.5/23.5 MB\u001b[0m \u001b[31m1.8 MB/s\u001b[0m eta \u001b[36m0:00:00\u001b[0m00:01\u001b[0m00:01\u001b[0m\n",
      "\u001b[?25h  Preparing metadata (setup.py) ... \u001b[?25ldone\n",
      "\u001b[?25hRequirement already satisfied: ipython_genutils in /Users/omarsaaoui/opt/anaconda3/lib/python3.9/site-packages (from jupyter_contrib_nbextensions) (0.2.0)\n",
      "Collecting jupyter_contrib_core>=0.3.3\n",
      "  Downloading jupyter_contrib_core-0.4.2.tar.gz (17 kB)\n",
      "  Preparing metadata (setup.py) ... \u001b[?25ldone\n",
      "\u001b[?25hRequirement already satisfied: jupyter_core in /Users/omarsaaoui/opt/anaconda3/lib/python3.9/site-packages (from jupyter_contrib_nbextensions) (4.11.1)\n",
      "Collecting jupyter_highlight_selected_word>=0.1.1\n",
      "  Downloading jupyter_highlight_selected_word-0.2.0-py2.py3-none-any.whl (11 kB)\n",
      "Collecting jupyter_nbextensions_configurator>=0.4.0\n",
      "  Downloading jupyter_nbextensions_configurator-0.6.3-py2.py3-none-any.whl (466 kB)\n",
      "\u001b[2K     \u001b[90m━━━━━━━━━━━━━━━━━━━━━━━━━━━━━━━━━━━━━━━\u001b[0m \u001b[32m466.9/466.9 kB\u001b[0m \u001b[31m2.7 MB/s\u001b[0m eta \u001b[36m0:00:00\u001b[0m00:01\u001b[0m00:01\u001b[0m\n",
      "\u001b[?25hRequirement already satisfied: nbconvert>=6.0 in /Users/omarsaaoui/opt/anaconda3/lib/python3.9/site-packages (from jupyter_contrib_nbextensions) (6.4.4)\n",
      "Requirement already satisfied: notebook>=6.0 in /Users/omarsaaoui/opt/anaconda3/lib/python3.9/site-packages (from jupyter_contrib_nbextensions) (6.4.12)\n",
      "Requirement already satisfied: tornado in /Users/omarsaaoui/opt/anaconda3/lib/python3.9/site-packages (from jupyter_contrib_nbextensions) (6.1)\n",
      "Requirement already satisfied: traitlets>=4.1 in /Users/omarsaaoui/opt/anaconda3/lib/python3.9/site-packages (from jupyter_contrib_nbextensions) (5.1.1)\n",
      "Requirement already satisfied: lxml in /Users/omarsaaoui/opt/anaconda3/lib/python3.9/site-packages (from jupyter_contrib_nbextensions) (4.9.1)\n",
      "Requirement already satisfied: setuptools in /Users/omarsaaoui/opt/anaconda3/lib/python3.9/site-packages (from jupyter_contrib_core>=0.3.3->jupyter_contrib_nbextensions) (63.4.1)\n",
      "Requirement already satisfied: pyyaml in /Users/omarsaaoui/opt/anaconda3/lib/python3.9/site-packages (from jupyter_nbextensions_configurator>=0.4.0->jupyter_contrib_nbextensions) (6.0)\n",
      "Requirement already satisfied: pygments>=2.4.1 in /Users/omarsaaoui/opt/anaconda3/lib/python3.9/site-packages (from nbconvert>=6.0->jupyter_contrib_nbextensions) (2.17.2)\n",
      "Requirement already satisfied: testpath in /Users/omarsaaoui/opt/anaconda3/lib/python3.9/site-packages (from nbconvert>=6.0->jupyter_contrib_nbextensions) (0.6.0)\n",
      "Requirement already satisfied: bleach in /Users/omarsaaoui/opt/anaconda3/lib/python3.9/site-packages (from nbconvert>=6.0->jupyter_contrib_nbextensions) (4.1.0)\n",
      "Requirement already satisfied: jupyterlab-pygments in /Users/omarsaaoui/opt/anaconda3/lib/python3.9/site-packages (from nbconvert>=6.0->jupyter_contrib_nbextensions) (0.1.2)\n",
      "Requirement already satisfied: defusedxml in /Users/omarsaaoui/opt/anaconda3/lib/python3.9/site-packages (from nbconvert>=6.0->jupyter_contrib_nbextensions) (0.7.1)\n",
      "Requirement already satisfied: beautifulsoup4 in /Users/omarsaaoui/opt/anaconda3/lib/python3.9/site-packages (from nbconvert>=6.0->jupyter_contrib_nbextensions) (4.11.1)\n",
      "Requirement already satisfied: mistune<2,>=0.8.1 in /Users/omarsaaoui/opt/anaconda3/lib/python3.9/site-packages (from nbconvert>=6.0->jupyter_contrib_nbextensions) (0.8.4)\n",
      "Requirement already satisfied: nbformat>=4.4 in /Users/omarsaaoui/opt/anaconda3/lib/python3.9/site-packages (from nbconvert>=6.0->jupyter_contrib_nbextensions) (5.5.0)\n",
      "Requirement already satisfied: entrypoints>=0.2.2 in /Users/omarsaaoui/opt/anaconda3/lib/python3.9/site-packages (from nbconvert>=6.0->jupyter_contrib_nbextensions) (0.4)\n",
      "Requirement already satisfied: jinja2>=2.4 in /Users/omarsaaoui/opt/anaconda3/lib/python3.9/site-packages (from nbconvert>=6.0->jupyter_contrib_nbextensions) (2.11.3)\n",
      "Requirement already satisfied: nbclient<0.6.0,>=0.5.0 in /Users/omarsaaoui/opt/anaconda3/lib/python3.9/site-packages (from nbconvert>=6.0->jupyter_contrib_nbextensions) (0.5.13)\n",
      "Requirement already satisfied: pandocfilters>=1.4.1 in /Users/omarsaaoui/opt/anaconda3/lib/python3.9/site-packages (from nbconvert>=6.0->jupyter_contrib_nbextensions) (1.5.0)\n",
      "Requirement already satisfied: ipykernel in /Users/omarsaaoui/opt/anaconda3/lib/python3.9/site-packages (from notebook>=6.0->jupyter_contrib_nbextensions) (6.15.2)\n",
      "Requirement already satisfied: terminado>=0.8.3 in /Users/omarsaaoui/opt/anaconda3/lib/python3.9/site-packages (from notebook>=6.0->jupyter_contrib_nbextensions) (0.13.1)\n",
      "Requirement already satisfied: prometheus-client in /Users/omarsaaoui/opt/anaconda3/lib/python3.9/site-packages (from notebook>=6.0->jupyter_contrib_nbextensions) (0.14.1)\n",
      "Requirement already satisfied: jupyter-client>=5.3.4 in /Users/omarsaaoui/opt/anaconda3/lib/python3.9/site-packages (from notebook>=6.0->jupyter_contrib_nbextensions) (7.3.4)\n",
      "Requirement already satisfied: pyzmq>=17 in /Users/omarsaaoui/opt/anaconda3/lib/python3.9/site-packages (from notebook>=6.0->jupyter_contrib_nbextensions) (23.2.0)\n",
      "Requirement already satisfied: Send2Trash>=1.8.0 in /Users/omarsaaoui/opt/anaconda3/lib/python3.9/site-packages (from notebook>=6.0->jupyter_contrib_nbextensions) (1.8.0)\n",
      "Requirement already satisfied: argon2-cffi in /Users/omarsaaoui/opt/anaconda3/lib/python3.9/site-packages (from notebook>=6.0->jupyter_contrib_nbextensions) (21.3.0)\n",
      "Requirement already satisfied: nest-asyncio>=1.5 in /Users/omarsaaoui/opt/anaconda3/lib/python3.9/site-packages (from notebook>=6.0->jupyter_contrib_nbextensions) (1.5.5)\n",
      "Requirement already satisfied: MarkupSafe>=0.23 in /Users/omarsaaoui/opt/anaconda3/lib/python3.9/site-packages (from jinja2>=2.4->nbconvert>=6.0->jupyter_contrib_nbextensions) (2.0.1)\n",
      "Requirement already satisfied: python-dateutil>=2.8.2 in /Users/omarsaaoui/opt/anaconda3/lib/python3.9/site-packages (from jupyter-client>=5.3.4->notebook>=6.0->jupyter_contrib_nbextensions) (2.8.2)\n",
      "Requirement already satisfied: fastjsonschema in /Users/omarsaaoui/opt/anaconda3/lib/python3.9/site-packages (from nbformat>=4.4->nbconvert>=6.0->jupyter_contrib_nbextensions) (2.16.2)\n",
      "Requirement already satisfied: jsonschema>=2.6 in /Users/omarsaaoui/opt/anaconda3/lib/python3.9/site-packages (from nbformat>=4.4->nbconvert>=6.0->jupyter_contrib_nbextensions) (4.16.0)\n",
      "Requirement already satisfied: ptyprocess in /Users/omarsaaoui/opt/anaconda3/lib/python3.9/site-packages (from terminado>=0.8.3->notebook>=6.0->jupyter_contrib_nbextensions) (0.7.0)\n",
      "Requirement already satisfied: argon2-cffi-bindings in /Users/omarsaaoui/opt/anaconda3/lib/python3.9/site-packages (from argon2-cffi->notebook>=6.0->jupyter_contrib_nbextensions) (21.2.0)\n",
      "Requirement already satisfied: soupsieve>1.2 in /Users/omarsaaoui/opt/anaconda3/lib/python3.9/site-packages (from beautifulsoup4->nbconvert>=6.0->jupyter_contrib_nbextensions) (2.3.1)\n",
      "Requirement already satisfied: webencodings in /Users/omarsaaoui/opt/anaconda3/lib/python3.9/site-packages (from bleach->nbconvert>=6.0->jupyter_contrib_nbextensions) (0.5.1)\n",
      "Requirement already satisfied: packaging in /Users/omarsaaoui/opt/anaconda3/lib/python3.9/site-packages (from bleach->nbconvert>=6.0->jupyter_contrib_nbextensions) (21.3)\n",
      "Requirement already satisfied: six>=1.9.0 in /Users/omarsaaoui/opt/anaconda3/lib/python3.9/site-packages (from bleach->nbconvert>=6.0->jupyter_contrib_nbextensions) (1.16.0)\n",
      "Requirement already satisfied: appnope in /Users/omarsaaoui/opt/anaconda3/lib/python3.9/site-packages (from ipykernel->notebook>=6.0->jupyter_contrib_nbextensions) (0.1.2)\n",
      "Requirement already satisfied: psutil in /Users/omarsaaoui/opt/anaconda3/lib/python3.9/site-packages (from ipykernel->notebook>=6.0->jupyter_contrib_nbextensions) (5.9.0)\n",
      "Requirement already satisfied: matplotlib-inline>=0.1 in /Users/omarsaaoui/opt/anaconda3/lib/python3.9/site-packages (from ipykernel->notebook>=6.0->jupyter_contrib_nbextensions) (0.1.6)\n",
      "Requirement already satisfied: ipython>=7.23.1 in /Users/omarsaaoui/opt/anaconda3/lib/python3.9/site-packages (from ipykernel->notebook>=6.0->jupyter_contrib_nbextensions) (7.31.1)\n",
      "Requirement already satisfied: debugpy>=1.0 in /Users/omarsaaoui/opt/anaconda3/lib/python3.9/site-packages (from ipykernel->notebook>=6.0->jupyter_contrib_nbextensions) (1.5.1)\n",
      "Requirement already satisfied: pexpect>4.3 in /Users/omarsaaoui/opt/anaconda3/lib/python3.9/site-packages (from ipython>=7.23.1->ipykernel->notebook>=6.0->jupyter_contrib_nbextensions) (4.8.0)\n",
      "Requirement already satisfied: pickleshare in /Users/omarsaaoui/opt/anaconda3/lib/python3.9/site-packages (from ipython>=7.23.1->ipykernel->notebook>=6.0->jupyter_contrib_nbextensions) (0.7.5)\n",
      "Requirement already satisfied: prompt-toolkit!=3.0.0,!=3.0.1,<3.1.0,>=2.0.0 in /Users/omarsaaoui/opt/anaconda3/lib/python3.9/site-packages (from ipython>=7.23.1->ipykernel->notebook>=6.0->jupyter_contrib_nbextensions) (3.0.20)\n",
      "Requirement already satisfied: backcall in /Users/omarsaaoui/opt/anaconda3/lib/python3.9/site-packages (from ipython>=7.23.1->ipykernel->notebook>=6.0->jupyter_contrib_nbextensions) (0.2.0)\n",
      "Requirement already satisfied: jedi>=0.16 in /Users/omarsaaoui/opt/anaconda3/lib/python3.9/site-packages (from ipython>=7.23.1->ipykernel->notebook>=6.0->jupyter_contrib_nbextensions) (0.18.1)\n",
      "Requirement already satisfied: decorator in /Users/omarsaaoui/opt/anaconda3/lib/python3.9/site-packages (from ipython>=7.23.1->ipykernel->notebook>=6.0->jupyter_contrib_nbextensions) (5.1.1)\n",
      "Requirement already satisfied: attrs>=17.4.0 in /Users/omarsaaoui/opt/anaconda3/lib/python3.9/site-packages (from jsonschema>=2.6->nbformat>=4.4->nbconvert>=6.0->jupyter_contrib_nbextensions) (21.4.0)\n",
      "Requirement already satisfied: pyrsistent!=0.17.0,!=0.17.1,!=0.17.2,>=0.14.0 in /Users/omarsaaoui/opt/anaconda3/lib/python3.9/site-packages (from jsonschema>=2.6->nbformat>=4.4->nbconvert>=6.0->jupyter_contrib_nbextensions) (0.18.0)\n",
      "Requirement already satisfied: cffi>=1.0.1 in /Users/omarsaaoui/opt/anaconda3/lib/python3.9/site-packages (from argon2-cffi-bindings->argon2-cffi->notebook>=6.0->jupyter_contrib_nbextensions) (1.15.1)\n",
      "Requirement already satisfied: pyparsing!=3.0.5,>=2.0.2 in /Users/omarsaaoui/opt/anaconda3/lib/python3.9/site-packages (from packaging->bleach->nbconvert>=6.0->jupyter_contrib_nbextensions) (3.0.9)\n",
      "Requirement already satisfied: pycparser in /Users/omarsaaoui/opt/anaconda3/lib/python3.9/site-packages (from cffi>=1.0.1->argon2-cffi-bindings->argon2-cffi->notebook>=6.0->jupyter_contrib_nbextensions) (2.21)\n",
      "Requirement already satisfied: parso<0.9.0,>=0.8.0 in /Users/omarsaaoui/opt/anaconda3/lib/python3.9/site-packages (from jedi>=0.16->ipython>=7.23.1->ipykernel->notebook>=6.0->jupyter_contrib_nbextensions) (0.8.3)\n",
      "Requirement already satisfied: wcwidth in /Users/omarsaaoui/opt/anaconda3/lib/python3.9/site-packages (from prompt-toolkit!=3.0.0,!=3.0.1,<3.1.0,>=2.0.0->ipython>=7.23.1->ipykernel->notebook>=6.0->jupyter_contrib_nbextensions) (0.2.5)\n",
      "Building wheels for collected packages: jupyter_contrib_nbextensions, jupyter_contrib_core\n",
      "  Building wheel for jupyter_contrib_nbextensions (setup.py) ... \u001b[?25ldone\n",
      "\u001b[?25h  Created wheel for jupyter_contrib_nbextensions: filename=jupyter_contrib_nbextensions-0.7.0-py2.py3-none-any.whl size=23428784 sha256=db16dd9784de5a3d197df3e0941fc384112d4b2e7dae5a582e543f779b187d00\n",
      "  Stored in directory: /Users/omarsaaoui/Library/Caches/pip/wheels/e7/99/91/7f24a075786a6760f3ac32ab5fa92e1d1a90e0d2cd8958adfd\n",
      "  Building wheel for jupyter_contrib_core (setup.py) ... \u001b[?25ldone\n",
      "\u001b[?25h  Created wheel for jupyter_contrib_core: filename=jupyter_contrib_core-0.4.2-py2.py3-none-any.whl size=17484 sha256=d147b1f4c21d353ce88d291b19e8ec44551d29ba6d835b0b9e5c2a3e99a13d4a\n",
      "  Stored in directory: /Users/omarsaaoui/Library/Caches/pip/wheels/57/9f/80/32c07b8a950a45f6cf8cd5980c22a27ce514c27b795250e497\n",
      "Successfully built jupyter_contrib_nbextensions jupyter_contrib_core\n",
      "Installing collected packages: jupyter_highlight_selected_word, jupyter_contrib_core, jupyter_nbextensions_configurator, jupyter_contrib_nbextensions\n",
      "Successfully installed jupyter_contrib_core-0.4.2 jupyter_contrib_nbextensions-0.7.0 jupyter_highlight_selected_word-0.2.0 jupyter_nbextensions_configurator-0.6.3\n",
      "Note: you may need to restart the kernel to use updated packages.\n"
     ]
    }
   ],
   "source": [
    "pip install jupyter_contrib_nbextensions"
   ]
  },
  {
   "cell_type": "code",
   "execution_count": 8,
   "id": "5386d037",
   "metadata": {},
   "outputs": [
    {
     "name": "stdout",
     "output_type": "stream",
     "text": [
      "Enabling notebook extension evidently/extension...\r\n",
      "      - Validating: \u001b[32mOK\u001b[0m\r\n"
     ]
    }
   ],
   "source": [
    "!jupyter nbextension enable evidently --py --sys-prefix"
   ]
  },
  {
   "cell_type": "code",
   "execution_count": 52,
   "id": "790adb54",
   "metadata": {},
   "outputs": [],
   "source": [
    "from sklearn.pipeline import Pipeline\n",
    "from sklearn.feature_extraction.text import TfidfVectorizer\n",
    "from sklearn.linear_model import SGDClassifier"
   ]
  },
  {
   "cell_type": "code",
   "execution_count": 53,
   "id": "306c96b0",
   "metadata": {},
   "outputs": [
    {
     "data": {
      "text/html": [
       "<div>\n",
       "<style scoped>\n",
       "    .dataframe tbody tr th:only-of-type {\n",
       "        vertical-align: middle;\n",
       "    }\n",
       "\n",
       "    .dataframe tbody tr th {\n",
       "        vertical-align: top;\n",
       "    }\n",
       "\n",
       "    .dataframe thead th {\n",
       "        text-align: right;\n",
       "    }\n",
       "</style>\n",
       "<table border=\"1\" class=\"dataframe\">\n",
       "  <thead>\n",
       "    <tr style=\"text-align: right;\">\n",
       "      <th></th>\n",
       "      <th>category</th>\n",
       "      <th>complaint</th>\n",
       "      <th>Issue</th>\n",
       "      <th>category_id</th>\n",
       "    </tr>\n",
       "  </thead>\n",
       "  <tbody>\n",
       "    <tr>\n",
       "      <th>0</th>\n",
       "      <td>Checking or savings account</td>\n",
       "      <td>opened capital one  checking account month ago...</td>\n",
       "      <td>Managing an account</td>\n",
       "      <td>0</td>\n",
       "    </tr>\n",
       "    <tr>\n",
       "      <th>1</th>\n",
       "      <td>Checking or savings account</td>\n",
       "      <td>around xxxx received called sister xxxx xxxx ...</td>\n",
       "      <td>Managing an account</td>\n",
       "      <td>0</td>\n",
       "    </tr>\n",
       "    <tr>\n",
       "      <th>2</th>\n",
       "      <td>Checking or savings account</td>\n",
       "      <td>xxxx xxxx  fraudulently taken wells fargo savi...</td>\n",
       "      <td>Managing an account</td>\n",
       "      <td>0</td>\n",
       "    </tr>\n",
       "    <tr>\n",
       "      <th>3</th>\n",
       "      <td>Checking or savings account</td>\n",
       "      <td>savings account hsbc bank dormancy  activity p...</td>\n",
       "      <td>Managing an account</td>\n",
       "      <td>0</td>\n",
       "    </tr>\n",
       "    <tr>\n",
       "      <th>4</th>\n",
       "      <td>Checking or savings account</td>\n",
       "      <td>xxxxxxxx younger brother xxxx xxxx steal life ...</td>\n",
       "      <td>Managing an account</td>\n",
       "      <td>0</td>\n",
       "    </tr>\n",
       "  </tbody>\n",
       "</table>\n",
       "</div>"
      ],
      "text/plain": [
       "                      category  \\\n",
       "0  Checking or savings account   \n",
       "1  Checking or savings account   \n",
       "2  Checking or savings account   \n",
       "3  Checking or savings account   \n",
       "4  Checking or savings account   \n",
       "\n",
       "                                           complaint                Issue  \\\n",
       "0  opened capital one  checking account month ago...  Managing an account   \n",
       "1   around xxxx received called sister xxxx xxxx ...  Managing an account   \n",
       "2  xxxx xxxx  fraudulently taken wells fargo savi...  Managing an account   \n",
       "3  savings account hsbc bank dormancy  activity p...  Managing an account   \n",
       "4  xxxxxxxx younger brother xxxx xxxx steal life ...  Managing an account   \n",
       "\n",
       "   category_id  \n",
       "0            0  \n",
       "1            0  \n",
       "2            0  \n",
       "3            0  \n",
       "4            0  "
      ]
     },
     "execution_count": 53,
     "metadata": {},
     "output_type": "execute_result"
    }
   ],
   "source": [
    "data.head()"
   ]
  },
  {
   "cell_type": "code",
   "execution_count": 272,
   "id": "52bc1266",
   "metadata": {},
   "outputs": [],
   "source": [
    "from evidently.pipeline.column_mapping import ColumnMapping\n",
    "from evidently.report import Report\n",
    "from evidently.metric_preset import DataDriftPreset, TargetDriftPreset\n",
    "from evidently.metric_preset import ClassificationPreset\n",
    "from evidently.metrics import ClassificationQualityMetric, TextDescriptorsDriftMetric,ClassificationQualityByClass, ColumnDriftMetric,ClassificationConfusionMatrix"
   ]
  },
  {
   "cell_type": "code",
   "execution_count": 153,
   "id": "153d777f",
   "metadata": {},
   "outputs": [],
   "source": [
    "init_data = data[['complaint', 'category']]"
   ]
  },
  {
   "cell_type": "code",
   "execution_count": 252,
   "id": "849d75f3",
   "metadata": {},
   "outputs": [],
   "source": [
    "target_classes= ['Checking or savings account', 'Credit card or prepaid card',\n",
    "       'Credit reporting',\n",
    "       'Credit reporting or other personal consumer reports',\n",
    "       'Credit reporting, credit repair services, or other personal consumer reports',\n",
    "       'Debt collection', 'Mortgage', 'Student loan']"
   ]
  },
  {
   "cell_type": "code",
   "execution_count": 147,
   "id": "bb94e948",
   "metadata": {},
   "outputs": [
    {
     "data": {
      "text/plain": [
       "['Checking or savings account',\n",
       " 'Credit card or prepaid card',\n",
       " 'Credit reporting',\n",
       " 'Credit reporting or other personal consumer reports',\n",
       " 'Credit reporting, credit repair services, or other personal consumer reports',\n",
       " 'Debt collection',\n",
       " 'Mortgage',\n",
       " 'Student loan']"
      ]
     },
     "execution_count": 147,
     "metadata": {},
     "output_type": "execute_result"
    }
   ],
   "source": [
    "iris"
   ]
  },
  {
   "cell_type": "code",
   "execution_count": 149,
   "id": "94b0c37c",
   "metadata": {},
   "outputs": [
    {
     "data": {
      "text/plain": [
       "['sepal length (cm)',\n",
       " 'sepal width (cm)',\n",
       " 'petal length (cm)',\n",
       " 'petal width (cm)']"
      ]
     },
     "execution_count": 149,
     "metadata": {},
     "output_type": "execute_result"
    }
   ],
   "source": [
    "iris_data.feature_names"
   ]
  },
  {
   "cell_type": "code",
   "execution_count": 154,
   "id": "7834089c",
   "metadata": {},
   "outputs": [],
   "source": [
    "X_trainEv, X_testEv, y_trainEv, y_testEv = train_test_split(init_data['complaint'], init_data['category'],\n",
    "                                                    test_size=0.4, random_state=42, shuffle=True)\n",
    "\n",
    "reference = pd.DataFrame({'complaint': X_trainEv, 'category': y_trainEv})\n",
    "valid = pd.DataFrame({'complaint': X_testEv, 'category': y_testEv})"
   ]
  },
  {
   "cell_type": "code",
   "execution_count": 232,
   "id": "b5c89115",
   "metadata": {},
   "outputs": [
    {
     "data": {
      "text/plain": [
       "Pipeline(steps=[('vectorization',\n",
       "                 TfidfVectorizer(max_df=0.5, stop_words='english',\n",
       "                                 sublinear_tf=True)),\n",
       "                ('Classification',\n",
       "                 RandomForestClassifier(n_estimators=3, random_state=1))])"
      ]
     },
     "execution_count": 232,
     "metadata": {},
     "output_type": "execute_result"
    }
   ],
   "source": [
    "pipeline = Pipeline(\n",
    "    [\n",
    "        (\"vectorization\", TfidfVectorizer(sublinear_tf=True, max_df=0.5, stop_words=\"english\")),\n",
    "        #(\"classification\", SGDClassifier(alpha=0.0001, max_iter=50, penalty='l1', loss='modified_huber', random_state=42))\n",
    "        (\"Classification\", ensemble.RandomForestClassifier(random_state=1, n_estimators=3))\n",
    "    ])\n",
    "pipeline.fit(reference['complaint'].values, reference['category'].values)"
   ]
  },
  {
   "cell_type": "code",
   "execution_count": 235,
   "id": "2cca9701",
   "metadata": {},
   "outputs": [],
   "source": [
    "#reference['predict_proba'] = pipeline.predict_proba(reference['complaint'].values)[:,1]\n",
    "#valid['predict_proba'] = pipeline.predict_proba(valid['complaint'].values)[:,1]\n",
    "#Reference and current data for Multiclass classification, option 1\n",
    "reference['pred'] = pipeline.predict(reference['complaint'])\n",
    "valid['pred'] = pipeline.predict(valid['complaint'])"
   ]
  },
  {
   "cell_type": "code",
   "execution_count": 238,
   "id": "9c1250bc",
   "metadata": {},
   "outputs": [
    {
     "data": {
      "text/plain": [
       "0        Checking or savings account\n",
       "1        Checking or savings account\n",
       "2        Checking or savings account\n",
       "3        Checking or savings account\n",
       "4        Checking or savings account\n",
       "                    ...             \n",
       "21105                   Student loan\n",
       "21106                   Student loan\n",
       "21107                   Student loan\n",
       "21108                   Student loan\n",
       "21109                   Student loan\n",
       "Name: category, Length: 168880, dtype: object"
      ]
     },
     "execution_count": 238,
     "metadata": {},
     "output_type": "execute_result"
    }
   ],
   "source": [
    "init_data.category"
   ]
  },
  {
   "cell_type": "code",
   "execution_count": 239,
   "id": "69b3d028",
   "metadata": {},
   "outputs": [],
   "source": [
    "ref2= reference.copy()\n",
    "val2= valid.copy()"
   ]
  },
  {
   "cell_type": "code",
   "execution_count": 261,
   "id": "662b8b10",
   "metadata": {},
   "outputs": [
    {
     "data": {
      "text/html": [
       "<div>\n",
       "<style scoped>\n",
       "    .dataframe tbody tr th:only-of-type {\n",
       "        vertical-align: middle;\n",
       "    }\n",
       "\n",
       "    .dataframe tbody tr th {\n",
       "        vertical-align: top;\n",
       "    }\n",
       "\n",
       "    .dataframe thead th {\n",
       "        text-align: right;\n",
       "    }\n",
       "</style>\n",
       "<table border=\"1\" class=\"dataframe\">\n",
       "  <thead>\n",
       "    <tr style=\"text-align: right;\">\n",
       "      <th></th>\n",
       "      <th>complaint</th>\n",
       "      <th>category</th>\n",
       "      <th>predict_proba</th>\n",
       "      <th>pred</th>\n",
       "    </tr>\n",
       "  </thead>\n",
       "  <tbody>\n",
       "    <tr>\n",
       "      <th>19085</th>\n",
       "      <td>went xxxx saw seller selling shoes contacted m...</td>\n",
       "      <td>Checking or savings account</td>\n",
       "      <td>0.666667</td>\n",
       "      <td>Category</td>\n",
       "    </tr>\n",
       "    <tr>\n",
       "      <th>3724</th>\n",
       "      <td>dear credit reporting agency recently discover...</td>\n",
       "      <td>Credit reporting or other personal consumer re...</td>\n",
       "      <td>0.000000</td>\n",
       "      <td>Category</td>\n",
       "    </tr>\n",
       "    <tr>\n",
       "      <th>17426</th>\n",
       "      <td>xxxxxxxx requested   loans placed forbearance ...</td>\n",
       "      <td>Student loan</td>\n",
       "      <td>0.000000</td>\n",
       "      <td>Category</td>\n",
       "    </tr>\n",
       "    <tr>\n",
       "      <th>8783</th>\n",
       "      <td>credit inquires credit xxxx xxxx xxxx xxxx xxx...</td>\n",
       "      <td>Credit reporting, credit repair services, or o...</td>\n",
       "      <td>0.000000</td>\n",
       "      <td>Category</td>\n",
       "    </tr>\n",
       "    <tr>\n",
       "      <th>14552</th>\n",
       "      <td>almost  dollars taken past  year  banks  chase...</td>\n",
       "      <td>Checking or savings account</td>\n",
       "      <td>0.000000</td>\n",
       "      <td>Category</td>\n",
       "    </tr>\n",
       "    <tr>\n",
       "      <th>...</th>\n",
       "      <td>...</td>\n",
       "      <td>...</td>\n",
       "      <td>...</td>\n",
       "      <td>...</td>\n",
       "    </tr>\n",
       "    <tr>\n",
       "      <th>14329</th>\n",
       "      <td>letter serves second warning take legal action...</td>\n",
       "      <td>Debt collection</td>\n",
       "      <td>0.000000</td>\n",
       "      <td>Category</td>\n",
       "    </tr>\n",
       "    <tr>\n",
       "      <th>19254</th>\n",
       "      <td>writing good letter see get late payment remov...</td>\n",
       "      <td>Credit reporting, credit repair services, or o...</td>\n",
       "      <td>0.000000</td>\n",
       "      <td>Category</td>\n",
       "    </tr>\n",
       "    <tr>\n",
       "      <th>5272</th>\n",
       "      <td>mortgage accounts get paid via bill pay  xxxx ...</td>\n",
       "      <td>Mortgage</td>\n",
       "      <td>0.000000</td>\n",
       "      <td>Category</td>\n",
       "    </tr>\n",
       "    <tr>\n",
       "      <th>20207</th>\n",
       "      <td>hardship started monthly payment increased   r...</td>\n",
       "      <td>Mortgage</td>\n",
       "      <td>0.000000</td>\n",
       "      <td>Category</td>\n",
       "    </tr>\n",
       "    <tr>\n",
       "      <th>16408</th>\n",
       "      <td>received notice nowackhoward collections  pay ...</td>\n",
       "      <td>Debt collection</td>\n",
       "      <td>0.000000</td>\n",
       "      <td>Category</td>\n",
       "    </tr>\n",
       "  </tbody>\n",
       "</table>\n",
       "<p>101328 rows × 4 columns</p>\n",
       "</div>"
      ],
      "text/plain": [
       "                                               complaint  \\\n",
       "19085  went xxxx saw seller selling shoes contacted m...   \n",
       "3724   dear credit reporting agency recently discover...   \n",
       "17426  xxxxxxxx requested   loans placed forbearance ...   \n",
       "8783   credit inquires credit xxxx xxxx xxxx xxxx xxx...   \n",
       "14552  almost  dollars taken past  year  banks  chase...   \n",
       "...                                                  ...   \n",
       "14329  letter serves second warning take legal action...   \n",
       "19254  writing good letter see get late payment remov...   \n",
       "5272   mortgage accounts get paid via bill pay  xxxx ...   \n",
       "20207  hardship started monthly payment increased   r...   \n",
       "16408  received notice nowackhoward collections  pay ...   \n",
       "\n",
       "                                                category  predict_proba  \\\n",
       "19085                        Checking or savings account       0.666667   \n",
       "3724   Credit reporting or other personal consumer re...       0.000000   \n",
       "17426                                       Student loan       0.000000   \n",
       "8783   Credit reporting, credit repair services, or o...       0.000000   \n",
       "14552                        Checking or savings account       0.000000   \n",
       "...                                                  ...            ...   \n",
       "14329                                    Debt collection       0.000000   \n",
       "19254  Credit reporting, credit repair services, or o...       0.000000   \n",
       "5272                                            Mortgage       0.000000   \n",
       "20207                                           Mortgage       0.000000   \n",
       "16408                                    Debt collection       0.000000   \n",
       "\n",
       "           pred  \n",
       "19085  Category  \n",
       "3724   Category  \n",
       "17426  Category  \n",
       "8783   Category  \n",
       "14552  Category  \n",
       "...         ...  \n",
       "14329  Category  \n",
       "19254  Category  \n",
       "5272   Category  \n",
       "20207  Category  \n",
       "16408  Category  \n",
       "\n",
       "[101328 rows x 4 columns]"
      ]
     },
     "execution_count": 261,
     "metadata": {},
     "output_type": "execute_result"
    }
   ],
   "source": [
    "ref2"
   ]
  },
  {
   "cell_type": "code",
   "execution_count": 262,
   "id": "aecaac6a",
   "metadata": {},
   "outputs": [],
   "source": [
    "ref2['pred']= ref2['category']"
   ]
  },
  {
   "cell_type": "code",
   "execution_count": 265,
   "id": "cace9901",
   "metadata": {},
   "outputs": [],
   "source": [
    "ref2['target']= ref2['category']"
   ]
  },
  {
   "cell_type": "code",
   "execution_count": 267,
   "id": "4edbff2f",
   "metadata": {},
   "outputs": [],
   "source": [
    "val2['pred']= val2['category']\n",
    "val2['target']= val2['category']"
   ]
  },
  {
   "cell_type": "code",
   "execution_count": null,
   "id": "2af6593f",
   "metadata": {},
   "outputs": [],
   "source": []
  },
  {
   "cell_type": "code",
   "execution_count": 268,
   "id": "b8d5e8a5",
   "metadata": {},
   "outputs": [],
   "source": [
    "column_mapping = ColumnMapping()\n",
    "\n",
    "column_mapping.target = 'target'\n",
    "column_mapping.prediction = 'pred'\n",
    "column_mapping.target_names = ['Checking or savings account',\n",
    " 'Credit card or prepaid card',\n",
    " 'Credit reporting',\n",
    " 'Credit reporting or other personal consumer reports',\n",
    " 'Credit reporting, credit repair services, or other personal consumer reports',\n",
    " 'Debt collection',\n",
    " 'Mortgage',\n",
    " 'Student loan']\n",
    "column_mapping.task = 'classification'"
   ]
  },
  {
   "cell_type": "code",
   "execution_count": 273,
   "id": "d405074b",
   "metadata": {},
   "outputs": [
    {
     "ename": "KeyError",
     "evalue": "'Checking or savings account'",
     "output_type": "error",
     "traceback": [
      "\u001b[0;31m---------------------------------------------------------------------------\u001b[0m",
      "\u001b[0;31mKeyError\u001b[0m                                  Traceback (most recent call last)",
      "\u001b[0;32m~/opt/anaconda3/lib/python3.9/site-packages/IPython/core/formatters.py\u001b[0m in \u001b[0;36m__call__\u001b[0;34m(self, obj)\u001b[0m\n\u001b[1;32m    343\u001b[0m             \u001b[0mmethod\u001b[0m \u001b[0;34m=\u001b[0m \u001b[0mget_real_method\u001b[0m\u001b[0;34m(\u001b[0m\u001b[0mobj\u001b[0m\u001b[0;34m,\u001b[0m \u001b[0mself\u001b[0m\u001b[0;34m.\u001b[0m\u001b[0mprint_method\u001b[0m\u001b[0;34m)\u001b[0m\u001b[0;34m\u001b[0m\u001b[0;34m\u001b[0m\u001b[0m\n\u001b[1;32m    344\u001b[0m             \u001b[0;32mif\u001b[0m \u001b[0mmethod\u001b[0m \u001b[0;32mis\u001b[0m \u001b[0;32mnot\u001b[0m \u001b[0;32mNone\u001b[0m\u001b[0;34m:\u001b[0m\u001b[0;34m\u001b[0m\u001b[0;34m\u001b[0m\u001b[0m\n\u001b[0;32m--> 345\u001b[0;31m                 \u001b[0;32mreturn\u001b[0m \u001b[0mmethod\u001b[0m\u001b[0;34m(\u001b[0m\u001b[0;34m)\u001b[0m\u001b[0;34m\u001b[0m\u001b[0;34m\u001b[0m\u001b[0m\n\u001b[0m\u001b[1;32m    346\u001b[0m             \u001b[0;32mreturn\u001b[0m \u001b[0;32mNone\u001b[0m\u001b[0;34m\u001b[0m\u001b[0;34m\u001b[0m\u001b[0m\n\u001b[1;32m    347\u001b[0m         \u001b[0;32melse\u001b[0m\u001b[0;34m:\u001b[0m\u001b[0;34m\u001b[0m\u001b[0;34m\u001b[0m\u001b[0m\n",
      "\u001b[0;32m~/opt/anaconda3/lib/python3.9/site-packages/evidently/suite/base_suite.py\u001b[0m in \u001b[0;36m_repr_html_\u001b[0;34m(self)\u001b[0m\n\u001b[1;32m    148\u001b[0m \u001b[0;34m\u001b[0m\u001b[0m\n\u001b[1;32m    149\u001b[0m     \u001b[0;32mdef\u001b[0m \u001b[0m_repr_html_\u001b[0m\u001b[0;34m(\u001b[0m\u001b[0mself\u001b[0m\u001b[0;34m)\u001b[0m\u001b[0;34m:\u001b[0m\u001b[0;34m\u001b[0m\u001b[0;34m\u001b[0m\u001b[0m\n\u001b[0;32m--> 150\u001b[0;31m         \u001b[0mdashboard_id\u001b[0m\u001b[0;34m,\u001b[0m \u001b[0mdashboard_info\u001b[0m\u001b[0;34m,\u001b[0m \u001b[0mgraphs\u001b[0m \u001b[0;34m=\u001b[0m \u001b[0mself\u001b[0m\u001b[0;34m.\u001b[0m\u001b[0m_build_dashboard_info\u001b[0m\u001b[0;34m(\u001b[0m\u001b[0;34m)\u001b[0m\u001b[0;34m\u001b[0m\u001b[0;34m\u001b[0m\u001b[0m\n\u001b[0m\u001b[1;32m    151\u001b[0m         template_params = TemplateParams(\n\u001b[1;32m    152\u001b[0m             \u001b[0mdashboard_id\u001b[0m\u001b[0;34m=\u001b[0m\u001b[0mdashboard_id\u001b[0m\u001b[0;34m,\u001b[0m\u001b[0;34m\u001b[0m\u001b[0;34m\u001b[0m\u001b[0m\n",
      "\u001b[0;32m~/opt/anaconda3/lib/python3.9/site-packages/evidently/report/report.py\u001b[0m in \u001b[0;36m_build_dashboard_info\u001b[0;34m(self)\u001b[0m\n\u001b[1;32m    206\u001b[0m             \u001b[0;31m# set the color scheme from the report for each render\u001b[0m\u001b[0;34m\u001b[0m\u001b[0;34m\u001b[0m\u001b[0m\n\u001b[1;32m    207\u001b[0m             \u001b[0mrenderer\u001b[0m\u001b[0;34m.\u001b[0m\u001b[0mcolor_options\u001b[0m \u001b[0;34m=\u001b[0m \u001b[0mcolor_options\u001b[0m\u001b[0;34m\u001b[0m\u001b[0;34m\u001b[0m\u001b[0m\n\u001b[0;32m--> 208\u001b[0;31m             \u001b[0mhtml_info\u001b[0m \u001b[0;34m=\u001b[0m \u001b[0mrenderer\u001b[0m\u001b[0;34m.\u001b[0m\u001b[0mrender_html\u001b[0m\u001b[0;34m(\u001b[0m\u001b[0mtest\u001b[0m\u001b[0;34m)\u001b[0m\u001b[0;34m\u001b[0m\u001b[0;34m\u001b[0m\u001b[0m\n\u001b[0m\u001b[1;32m    209\u001b[0m             \u001b[0mreplace_widgets_ids\u001b[0m\u001b[0;34m(\u001b[0m\u001b[0mhtml_info\u001b[0m\u001b[0;34m,\u001b[0m \u001b[0mid_generator\u001b[0m\u001b[0;34m)\u001b[0m\u001b[0;34m\u001b[0m\u001b[0;34m\u001b[0m\u001b[0m\n\u001b[1;32m    210\u001b[0m \u001b[0;34m\u001b[0m\u001b[0m\n",
      "\u001b[0;32m~/opt/anaconda3/lib/python3.9/site-packages/evidently/metrics/classification_performance/confusion_matrix_metric.py\u001b[0m in \u001b[0;36mrender_html\u001b[0;34m(self, obj)\u001b[0m\n\u001b[1;32m     85\u001b[0m         \u001b[0mref_matrix\u001b[0m \u001b[0;34m=\u001b[0m \u001b[0mmetric_result\u001b[0m\u001b[0;34m.\u001b[0m\u001b[0mreference_matrix\u001b[0m\u001b[0;34m\u001b[0m\u001b[0;34m\u001b[0m\u001b[0m\n\u001b[1;32m     86\u001b[0m         \u001b[0;32mif\u001b[0m \u001b[0mtarget_names\u001b[0m \u001b[0;32mis\u001b[0m \u001b[0;32mnot\u001b[0m \u001b[0;32mNone\u001b[0m\u001b[0;34m:\u001b[0m\u001b[0;34m\u001b[0m\u001b[0;34m\u001b[0m\u001b[0m\n\u001b[0;32m---> 87\u001b[0;31m             \u001b[0mcurr_matrix\u001b[0m\u001b[0;34m.\u001b[0m\u001b[0mlabels\u001b[0m \u001b[0;34m=\u001b[0m \u001b[0;34m[\u001b[0m\u001b[0mtarget_names\u001b[0m\u001b[0;34m[\u001b[0m\u001b[0mx\u001b[0m\u001b[0;34m]\u001b[0m \u001b[0;32mfor\u001b[0m \u001b[0mx\u001b[0m \u001b[0;32min\u001b[0m \u001b[0mcurr_matrix\u001b[0m\u001b[0;34m.\u001b[0m\u001b[0mlabels\u001b[0m\u001b[0;34m]\u001b[0m\u001b[0;34m\u001b[0m\u001b[0;34m\u001b[0m\u001b[0m\n\u001b[0m\u001b[1;32m     88\u001b[0m             \u001b[0;32mif\u001b[0m \u001b[0mref_matrix\u001b[0m \u001b[0;32mis\u001b[0m \u001b[0;32mnot\u001b[0m \u001b[0;32mNone\u001b[0m\u001b[0;34m:\u001b[0m\u001b[0;34m\u001b[0m\u001b[0;34m\u001b[0m\u001b[0m\n\u001b[1;32m     89\u001b[0m                 \u001b[0mref_matrix\u001b[0m\u001b[0;34m.\u001b[0m\u001b[0mlabels\u001b[0m \u001b[0;34m=\u001b[0m \u001b[0;34m[\u001b[0m\u001b[0mtarget_names\u001b[0m\u001b[0;34m[\u001b[0m\u001b[0mx\u001b[0m\u001b[0;34m]\u001b[0m \u001b[0;32mfor\u001b[0m \u001b[0mx\u001b[0m \u001b[0;32min\u001b[0m \u001b[0mref_matrix\u001b[0m\u001b[0;34m.\u001b[0m\u001b[0mlabels\u001b[0m\u001b[0;34m]\u001b[0m\u001b[0;34m\u001b[0m\u001b[0;34m\u001b[0m\u001b[0m\n",
      "\u001b[0;32m~/opt/anaconda3/lib/python3.9/site-packages/evidently/metrics/classification_performance/confusion_matrix_metric.py\u001b[0m in \u001b[0;36m<listcomp>\u001b[0;34m(.0)\u001b[0m\n\u001b[1;32m     85\u001b[0m         \u001b[0mref_matrix\u001b[0m \u001b[0;34m=\u001b[0m \u001b[0mmetric_result\u001b[0m\u001b[0;34m.\u001b[0m\u001b[0mreference_matrix\u001b[0m\u001b[0;34m\u001b[0m\u001b[0;34m\u001b[0m\u001b[0m\n\u001b[1;32m     86\u001b[0m         \u001b[0;32mif\u001b[0m \u001b[0mtarget_names\u001b[0m \u001b[0;32mis\u001b[0m \u001b[0;32mnot\u001b[0m \u001b[0;32mNone\u001b[0m\u001b[0;34m:\u001b[0m\u001b[0;34m\u001b[0m\u001b[0;34m\u001b[0m\u001b[0m\n\u001b[0;32m---> 87\u001b[0;31m             \u001b[0mcurr_matrix\u001b[0m\u001b[0;34m.\u001b[0m\u001b[0mlabels\u001b[0m \u001b[0;34m=\u001b[0m \u001b[0;34m[\u001b[0m\u001b[0mtarget_names\u001b[0m\u001b[0;34m[\u001b[0m\u001b[0mx\u001b[0m\u001b[0;34m]\u001b[0m \u001b[0;32mfor\u001b[0m \u001b[0mx\u001b[0m \u001b[0;32min\u001b[0m \u001b[0mcurr_matrix\u001b[0m\u001b[0;34m.\u001b[0m\u001b[0mlabels\u001b[0m\u001b[0;34m]\u001b[0m\u001b[0;34m\u001b[0m\u001b[0;34m\u001b[0m\u001b[0m\n\u001b[0m\u001b[1;32m     88\u001b[0m             \u001b[0;32mif\u001b[0m \u001b[0mref_matrix\u001b[0m \u001b[0;32mis\u001b[0m \u001b[0;32mnot\u001b[0m \u001b[0;32mNone\u001b[0m\u001b[0;34m:\u001b[0m\u001b[0;34m\u001b[0m\u001b[0;34m\u001b[0m\u001b[0m\n\u001b[1;32m     89\u001b[0m                 \u001b[0mref_matrix\u001b[0m\u001b[0;34m.\u001b[0m\u001b[0mlabels\u001b[0m \u001b[0;34m=\u001b[0m \u001b[0;34m[\u001b[0m\u001b[0mtarget_names\u001b[0m\u001b[0;34m[\u001b[0m\u001b[0mx\u001b[0m\u001b[0;34m]\u001b[0m \u001b[0;32mfor\u001b[0m \u001b[0mx\u001b[0m \u001b[0;32min\u001b[0m \u001b[0mref_matrix\u001b[0m\u001b[0;34m.\u001b[0m\u001b[0mlabels\u001b[0m\u001b[0;34m]\u001b[0m\u001b[0;34m\u001b[0m\u001b[0;34m\u001b[0m\u001b[0m\n",
      "\u001b[0;31mKeyError\u001b[0m: 'Checking or savings account'"
     ]
    },
    {
     "data": {
      "text/plain": [
       "<evidently.report.report.Report at 0x7fede74ba910>"
      ]
     },
     "execution_count": 273,
     "metadata": {},
     "output_type": "execute_result"
    }
   ],
   "source": [
    "classification_report = Report(metrics=[\n",
    "    ClassificationConfusionMatrix(),\n",
    "    ClassificationQualityByClass(),\n",
    "])\n",
    "\n",
    "classification_report.run(reference_data=ref2, current_data=val2,column_mapping=column_mapping)\n",
    "classification_report"
   ]
  },
  {
   "cell_type": "code",
   "execution_count": 116,
   "id": "2df16c03",
   "metadata": {},
   "outputs": [],
   "source": [
    "from sklearn import datasets, ensemble, model_selection"
   ]
  },
  {
   "cell_type": "code",
   "execution_count": 117,
   "id": "6061ed62",
   "metadata": {},
   "outputs": [],
   "source": [
    "#Dataset for Multiclass Classification\n",
    "iris_data = datasets.load_iris(as_frame='auto')\n",
    "iris = iris_data.frame\n",
    "\n",
    "iris_ref = iris.sample(n=150, replace=False)\n",
    "iris_cur = iris.sample(n=150, replace=False)\n",
    "\n",
    "model = ensemble.RandomForestClassifier(random_state=1, n_estimators=3)\n",
    "model.fit(iris_ref[iris_data.feature_names], iris_ref.target)\n",
    "\n",
    "#Reference and current data for Multiclass classification, option 1\n",
    "iris_ref['pred'] = model.predict(iris_ref[iris_data.feature_names])\n",
    "iris_cur['pred'] = model.predict(iris_cur[iris_data.feature_names])\n",
    "\n",
    "#Reference and current data for Multiclass classification, option 2\n",
    "target_classes = ['Setosa', 'Versicolor', 'Virginica']\n",
    "\n",
    "iris_ref2 = iris_ref.copy()\n",
    "iris_cur2 = iris_cur.copy()\n",
    "\n",
    "iris_ref2['pred'] = iris_ref.pred.apply(lambda x: iris_data.target_names[x].capitalize())\n",
    "iris_ref2['target'] = iris_ref.target.apply(lambda x: iris_data.target_names[x].capitalize())\n",
    "iris_cur2['pred'] = iris_cur.pred.apply(lambda x: iris_data.target_names[x].capitalize())\n",
    "iris_cur2['target'] = iris_cur.target.apply(lambda x: iris_data.target_names[x].capitalize())"
   ]
  },
  {
   "cell_type": "code",
   "execution_count": 229,
   "id": "77ad695a",
   "metadata": {},
   "outputs": [
    {
     "data": {
      "text/html": [
       "<div>\n",
       "<style scoped>\n",
       "    .dataframe tbody tr th:only-of-type {\n",
       "        vertical-align: middle;\n",
       "    }\n",
       "\n",
       "    .dataframe tbody tr th {\n",
       "        vertical-align: top;\n",
       "    }\n",
       "\n",
       "    .dataframe thead th {\n",
       "        text-align: right;\n",
       "    }\n",
       "</style>\n",
       "<table border=\"1\" class=\"dataframe\">\n",
       "  <thead>\n",
       "    <tr style=\"text-align: right;\">\n",
       "      <th></th>\n",
       "      <th>sepal length (cm)</th>\n",
       "      <th>sepal width (cm)</th>\n",
       "      <th>petal length (cm)</th>\n",
       "      <th>petal width (cm)</th>\n",
       "      <th>target</th>\n",
       "      <th>pred</th>\n",
       "    </tr>\n",
       "  </thead>\n",
       "  <tbody>\n",
       "    <tr>\n",
       "      <th>70</th>\n",
       "      <td>5.9</td>\n",
       "      <td>3.2</td>\n",
       "      <td>4.8</td>\n",
       "      <td>1.8</td>\n",
       "      <td>Versicolor</td>\n",
       "      <td>Versicolor</td>\n",
       "    </tr>\n",
       "    <tr>\n",
       "      <th>56</th>\n",
       "      <td>6.3</td>\n",
       "      <td>3.3</td>\n",
       "      <td>4.7</td>\n",
       "      <td>1.6</td>\n",
       "      <td>Versicolor</td>\n",
       "      <td>Versicolor</td>\n",
       "    </tr>\n",
       "    <tr>\n",
       "      <th>19</th>\n",
       "      <td>5.1</td>\n",
       "      <td>3.8</td>\n",
       "      <td>1.5</td>\n",
       "      <td>0.3</td>\n",
       "      <td>Setosa</td>\n",
       "      <td>Setosa</td>\n",
       "    </tr>\n",
       "    <tr>\n",
       "      <th>66</th>\n",
       "      <td>5.6</td>\n",
       "      <td>3.0</td>\n",
       "      <td>4.5</td>\n",
       "      <td>1.5</td>\n",
       "      <td>Versicolor</td>\n",
       "      <td>Versicolor</td>\n",
       "    </tr>\n",
       "    <tr>\n",
       "      <th>72</th>\n",
       "      <td>6.3</td>\n",
       "      <td>2.5</td>\n",
       "      <td>4.9</td>\n",
       "      <td>1.5</td>\n",
       "      <td>Versicolor</td>\n",
       "      <td>Versicolor</td>\n",
       "    </tr>\n",
       "    <tr>\n",
       "      <th>...</th>\n",
       "      <td>...</td>\n",
       "      <td>...</td>\n",
       "      <td>...</td>\n",
       "      <td>...</td>\n",
       "      <td>...</td>\n",
       "      <td>...</td>\n",
       "    </tr>\n",
       "    <tr>\n",
       "      <th>21</th>\n",
       "      <td>5.1</td>\n",
       "      <td>3.7</td>\n",
       "      <td>1.5</td>\n",
       "      <td>0.4</td>\n",
       "      <td>Setosa</td>\n",
       "      <td>Setosa</td>\n",
       "    </tr>\n",
       "    <tr>\n",
       "      <th>130</th>\n",
       "      <td>7.4</td>\n",
       "      <td>2.8</td>\n",
       "      <td>6.1</td>\n",
       "      <td>1.9</td>\n",
       "      <td>Virginica</td>\n",
       "      <td>Virginica</td>\n",
       "    </tr>\n",
       "    <tr>\n",
       "      <th>50</th>\n",
       "      <td>7.0</td>\n",
       "      <td>3.2</td>\n",
       "      <td>4.7</td>\n",
       "      <td>1.4</td>\n",
       "      <td>Versicolor</td>\n",
       "      <td>Versicolor</td>\n",
       "    </tr>\n",
       "    <tr>\n",
       "      <th>32</th>\n",
       "      <td>5.2</td>\n",
       "      <td>4.1</td>\n",
       "      <td>1.5</td>\n",
       "      <td>0.1</td>\n",
       "      <td>Setosa</td>\n",
       "      <td>Setosa</td>\n",
       "    </tr>\n",
       "    <tr>\n",
       "      <th>17</th>\n",
       "      <td>5.1</td>\n",
       "      <td>3.5</td>\n",
       "      <td>1.4</td>\n",
       "      <td>0.3</td>\n",
       "      <td>Setosa</td>\n",
       "      <td>Setosa</td>\n",
       "    </tr>\n",
       "  </tbody>\n",
       "</table>\n",
       "<p>150 rows × 6 columns</p>\n",
       "</div>"
      ],
      "text/plain": [
       "     sepal length (cm)  sepal width (cm)  petal length (cm)  petal width (cm)  \\\n",
       "70                 5.9               3.2                4.8               1.8   \n",
       "56                 6.3               3.3                4.7               1.6   \n",
       "19                 5.1               3.8                1.5               0.3   \n",
       "66                 5.6               3.0                4.5               1.5   \n",
       "72                 6.3               2.5                4.9               1.5   \n",
       "..                 ...               ...                ...               ...   \n",
       "21                 5.1               3.7                1.5               0.4   \n",
       "130                7.4               2.8                6.1               1.9   \n",
       "50                 7.0               3.2                4.7               1.4   \n",
       "32                 5.2               4.1                1.5               0.1   \n",
       "17                 5.1               3.5                1.4               0.3   \n",
       "\n",
       "         target        pred  \n",
       "70   Versicolor  Versicolor  \n",
       "56   Versicolor  Versicolor  \n",
       "19       Setosa      Setosa  \n",
       "66   Versicolor  Versicolor  \n",
       "72   Versicolor  Versicolor  \n",
       "..          ...         ...  \n",
       "21       Setosa      Setosa  \n",
       "130   Virginica   Virginica  \n",
       "50   Versicolor  Versicolor  \n",
       "32       Setosa      Setosa  \n",
       "17       Setosa      Setosa  \n",
       "\n",
       "[150 rows x 6 columns]"
      ]
     },
     "execution_count": 229,
     "metadata": {},
     "output_type": "execute_result"
    }
   ],
   "source": [
    "iris_ref2"
   ]
  },
  {
   "cell_type": "code",
   "execution_count": 204,
   "id": "fd969ae8",
   "metadata": {},
   "outputs": [
    {
     "data": {
      "text/plain": [
       "Index(['Unnamed:_0', 'Clothing_ID', 'Age', 'Title', 'Review_Text', 'Rating',\n",
       "       'Recommended_IND', 'Positive_Feedback_Count', 'Division_Name',\n",
       "       'Department_Name', 'Class_Name', 'prediction'],\n",
       "      dtype='object')"
      ]
     },
     "execution_count": 204,
     "metadata": {},
     "output_type": "execute_result"
    }
   ],
   "source": [
    "reviews.columns"
   ]
  },
  {
   "cell_type": "code",
   "execution_count": 206,
   "id": "de43025f",
   "metadata": {},
   "outputs": [
    {
     "data": {
      "text/plain": [
       "array(['setosa', 'versicolor', 'virginica'], dtype='<U10')"
      ]
     },
     "execution_count": 206,
     "metadata": {},
     "output_type": "execute_result"
    }
   ],
   "source": [
    "iris_data.target_names"
   ]
  },
  {
   "cell_type": "code",
   "execution_count": 207,
   "id": "f75ae4df",
   "metadata": {},
   "outputs": [
    {
     "data": {
      "text/html": [
       "<div>\n",
       "<style scoped>\n",
       "    .dataframe tbody tr th:only-of-type {\n",
       "        vertical-align: middle;\n",
       "    }\n",
       "\n",
       "    .dataframe tbody tr th {\n",
       "        vertical-align: top;\n",
       "    }\n",
       "\n",
       "    .dataframe thead th {\n",
       "        text-align: right;\n",
       "    }\n",
       "</style>\n",
       "<table border=\"1\" class=\"dataframe\">\n",
       "  <thead>\n",
       "    <tr style=\"text-align: right;\">\n",
       "      <th></th>\n",
       "      <th>sepal length (cm)</th>\n",
       "      <th>sepal width (cm)</th>\n",
       "      <th>petal length (cm)</th>\n",
       "      <th>petal width (cm)</th>\n",
       "      <th>target</th>\n",
       "      <th>pred</th>\n",
       "    </tr>\n",
       "  </thead>\n",
       "  <tbody>\n",
       "    <tr>\n",
       "      <th>70</th>\n",
       "      <td>5.9</td>\n",
       "      <td>3.2</td>\n",
       "      <td>4.8</td>\n",
       "      <td>1.8</td>\n",
       "      <td>Versicolor</td>\n",
       "      <td>Versicolor</td>\n",
       "    </tr>\n",
       "    <tr>\n",
       "      <th>56</th>\n",
       "      <td>6.3</td>\n",
       "      <td>3.3</td>\n",
       "      <td>4.7</td>\n",
       "      <td>1.6</td>\n",
       "      <td>Versicolor</td>\n",
       "      <td>Versicolor</td>\n",
       "    </tr>\n",
       "    <tr>\n",
       "      <th>19</th>\n",
       "      <td>5.1</td>\n",
       "      <td>3.8</td>\n",
       "      <td>1.5</td>\n",
       "      <td>0.3</td>\n",
       "      <td>Setosa</td>\n",
       "      <td>Setosa</td>\n",
       "    </tr>\n",
       "    <tr>\n",
       "      <th>66</th>\n",
       "      <td>5.6</td>\n",
       "      <td>3.0</td>\n",
       "      <td>4.5</td>\n",
       "      <td>1.5</td>\n",
       "      <td>Versicolor</td>\n",
       "      <td>Versicolor</td>\n",
       "    </tr>\n",
       "    <tr>\n",
       "      <th>72</th>\n",
       "      <td>6.3</td>\n",
       "      <td>2.5</td>\n",
       "      <td>4.9</td>\n",
       "      <td>1.5</td>\n",
       "      <td>Versicolor</td>\n",
       "      <td>Versicolor</td>\n",
       "    </tr>\n",
       "    <tr>\n",
       "      <th>...</th>\n",
       "      <td>...</td>\n",
       "      <td>...</td>\n",
       "      <td>...</td>\n",
       "      <td>...</td>\n",
       "      <td>...</td>\n",
       "      <td>...</td>\n",
       "    </tr>\n",
       "    <tr>\n",
       "      <th>21</th>\n",
       "      <td>5.1</td>\n",
       "      <td>3.7</td>\n",
       "      <td>1.5</td>\n",
       "      <td>0.4</td>\n",
       "      <td>Setosa</td>\n",
       "      <td>Setosa</td>\n",
       "    </tr>\n",
       "    <tr>\n",
       "      <th>130</th>\n",
       "      <td>7.4</td>\n",
       "      <td>2.8</td>\n",
       "      <td>6.1</td>\n",
       "      <td>1.9</td>\n",
       "      <td>Virginica</td>\n",
       "      <td>Virginica</td>\n",
       "    </tr>\n",
       "    <tr>\n",
       "      <th>50</th>\n",
       "      <td>7.0</td>\n",
       "      <td>3.2</td>\n",
       "      <td>4.7</td>\n",
       "      <td>1.4</td>\n",
       "      <td>Versicolor</td>\n",
       "      <td>Versicolor</td>\n",
       "    </tr>\n",
       "    <tr>\n",
       "      <th>32</th>\n",
       "      <td>5.2</td>\n",
       "      <td>4.1</td>\n",
       "      <td>1.5</td>\n",
       "      <td>0.1</td>\n",
       "      <td>Setosa</td>\n",
       "      <td>Setosa</td>\n",
       "    </tr>\n",
       "    <tr>\n",
       "      <th>17</th>\n",
       "      <td>5.1</td>\n",
       "      <td>3.5</td>\n",
       "      <td>1.4</td>\n",
       "      <td>0.3</td>\n",
       "      <td>Setosa</td>\n",
       "      <td>Setosa</td>\n",
       "    </tr>\n",
       "  </tbody>\n",
       "</table>\n",
       "<p>150 rows × 6 columns</p>\n",
       "</div>"
      ],
      "text/plain": [
       "     sepal length (cm)  sepal width (cm)  petal length (cm)  petal width (cm)  \\\n",
       "70                 5.9               3.2                4.8               1.8   \n",
       "56                 6.3               3.3                4.7               1.6   \n",
       "19                 5.1               3.8                1.5               0.3   \n",
       "66                 5.6               3.0                4.5               1.5   \n",
       "72                 6.3               2.5                4.9               1.5   \n",
       "..                 ...               ...                ...               ...   \n",
       "21                 5.1               3.7                1.5               0.4   \n",
       "130                7.4               2.8                6.1               1.9   \n",
       "50                 7.0               3.2                4.7               1.4   \n",
       "32                 5.2               4.1                1.5               0.1   \n",
       "17                 5.1               3.5                1.4               0.3   \n",
       "\n",
       "         target        pred  \n",
       "70   Versicolor  Versicolor  \n",
       "56   Versicolor  Versicolor  \n",
       "19       Setosa      Setosa  \n",
       "66   Versicolor  Versicolor  \n",
       "72   Versicolor  Versicolor  \n",
       "..          ...         ...  \n",
       "21       Setosa      Setosa  \n",
       "130   Virginica   Virginica  \n",
       "50   Versicolor  Versicolor  \n",
       "32       Setosa      Setosa  \n",
       "17       Setosa      Setosa  \n",
       "\n",
       "[150 rows x 6 columns]"
      ]
     },
     "execution_count": 207,
     "metadata": {},
     "output_type": "execute_result"
    }
   ],
   "source": [
    "iris_ref2"
   ]
  },
  {
   "cell_type": "code",
   "execution_count": 230,
   "id": "d1ce129f",
   "metadata": {},
   "outputs": [],
   "source": [
    "#Multiclass Probabilistic Classification\n",
    "iris_ref_prob = model.predict_proba(iris_ref[iris_data.feature_names])\n",
    "iris_cur_prob = model.predict_proba(iris_cur[iris_data.feature_names])\n",
    "\n",
    "target_classes = ['Setosa', 'Versicolor', 'Virginica']\n",
    "\n",
    "iris_ref_prob_df = pd.DataFrame(iris_ref_prob, columns=target_classes)\n",
    "iris_cur_prob_df = pd.DataFrame(iris_cur_prob, columns=target_classes)\n",
    "\n",
    "iris_ref_prob_df['pred'] = model.predict(iris_ref[iris_data.feature_names])\n",
    "iris_ref_prob_df['target'] = iris_ref.target.apply(lambda x: iris_data.target_names[x].capitalize())\n",
    "#iris_cur_prob_df['pred'] = model.predict(iris_cur[iris_data.feature_names])\n",
    "#iris_cur_prob_df['target'] = iris_cur.target.apply(lambda x: iris_data.target_names[x].capitalize())"
   ]
  },
  {
   "cell_type": "code",
   "execution_count": 231,
   "id": "8c2617a5",
   "metadata": {},
   "outputs": [
    {
     "data": {
      "text/html": [
       "<div>\n",
       "<style scoped>\n",
       "    .dataframe tbody tr th:only-of-type {\n",
       "        vertical-align: middle;\n",
       "    }\n",
       "\n",
       "    .dataframe tbody tr th {\n",
       "        vertical-align: top;\n",
       "    }\n",
       "\n",
       "    .dataframe thead th {\n",
       "        text-align: right;\n",
       "    }\n",
       "</style>\n",
       "<table border=\"1\" class=\"dataframe\">\n",
       "  <thead>\n",
       "    <tr style=\"text-align: right;\">\n",
       "      <th></th>\n",
       "      <th>Setosa</th>\n",
       "      <th>Versicolor</th>\n",
       "      <th>Virginica</th>\n",
       "      <th>pred</th>\n",
       "      <th>target</th>\n",
       "    </tr>\n",
       "  </thead>\n",
       "  <tbody>\n",
       "    <tr>\n",
       "      <th>0</th>\n",
       "      <td>0.0</td>\n",
       "      <td>1.000000</td>\n",
       "      <td>0.000000</td>\n",
       "      <td>1</td>\n",
       "      <td>Setosa</td>\n",
       "    </tr>\n",
       "    <tr>\n",
       "      <th>1</th>\n",
       "      <td>0.0</td>\n",
       "      <td>1.000000</td>\n",
       "      <td>0.000000</td>\n",
       "      <td>1</td>\n",
       "      <td>Setosa</td>\n",
       "    </tr>\n",
       "    <tr>\n",
       "      <th>2</th>\n",
       "      <td>1.0</td>\n",
       "      <td>0.000000</td>\n",
       "      <td>0.000000</td>\n",
       "      <td>0</td>\n",
       "      <td>Setosa</td>\n",
       "    </tr>\n",
       "    <tr>\n",
       "      <th>3</th>\n",
       "      <td>0.0</td>\n",
       "      <td>1.000000</td>\n",
       "      <td>0.000000</td>\n",
       "      <td>1</td>\n",
       "      <td>Setosa</td>\n",
       "    </tr>\n",
       "    <tr>\n",
       "      <th>4</th>\n",
       "      <td>0.0</td>\n",
       "      <td>0.666667</td>\n",
       "      <td>0.333333</td>\n",
       "      <td>1</td>\n",
       "      <td>Setosa</td>\n",
       "    </tr>\n",
       "    <tr>\n",
       "      <th>...</th>\n",
       "      <td>...</td>\n",
       "      <td>...</td>\n",
       "      <td>...</td>\n",
       "      <td>...</td>\n",
       "      <td>...</td>\n",
       "    </tr>\n",
       "    <tr>\n",
       "      <th>145</th>\n",
       "      <td>1.0</td>\n",
       "      <td>0.000000</td>\n",
       "      <td>0.000000</td>\n",
       "      <td>0</td>\n",
       "      <td>Virginica</td>\n",
       "    </tr>\n",
       "    <tr>\n",
       "      <th>146</th>\n",
       "      <td>0.0</td>\n",
       "      <td>0.000000</td>\n",
       "      <td>1.000000</td>\n",
       "      <td>2</td>\n",
       "      <td>Virginica</td>\n",
       "    </tr>\n",
       "    <tr>\n",
       "      <th>147</th>\n",
       "      <td>0.0</td>\n",
       "      <td>1.000000</td>\n",
       "      <td>0.000000</td>\n",
       "      <td>1</td>\n",
       "      <td>Virginica</td>\n",
       "    </tr>\n",
       "    <tr>\n",
       "      <th>148</th>\n",
       "      <td>1.0</td>\n",
       "      <td>0.000000</td>\n",
       "      <td>0.000000</td>\n",
       "      <td>0</td>\n",
       "      <td>Virginica</td>\n",
       "    </tr>\n",
       "    <tr>\n",
       "      <th>149</th>\n",
       "      <td>1.0</td>\n",
       "      <td>0.000000</td>\n",
       "      <td>0.000000</td>\n",
       "      <td>0</td>\n",
       "      <td>Virginica</td>\n",
       "    </tr>\n",
       "  </tbody>\n",
       "</table>\n",
       "<p>150 rows × 5 columns</p>\n",
       "</div>"
      ],
      "text/plain": [
       "     Setosa  Versicolor  Virginica  pred     target\n",
       "0       0.0    1.000000   0.000000     1     Setosa\n",
       "1       0.0    1.000000   0.000000     1     Setosa\n",
       "2       1.0    0.000000   0.000000     0     Setosa\n",
       "3       0.0    1.000000   0.000000     1     Setosa\n",
       "4       0.0    0.666667   0.333333     1     Setosa\n",
       "..      ...         ...        ...   ...        ...\n",
       "145     1.0    0.000000   0.000000     0  Virginica\n",
       "146     0.0    0.000000   1.000000     2  Virginica\n",
       "147     0.0    1.000000   0.000000     1  Virginica\n",
       "148     1.0    0.000000   0.000000     0  Virginica\n",
       "149     1.0    0.000000   0.000000     0  Virginica\n",
       "\n",
       "[150 rows x 5 columns]"
      ]
     },
     "execution_count": 231,
     "metadata": {},
     "output_type": "execute_result"
    }
   ],
   "source": [
    "iris_ref_prob_df"
   ]
  },
  {
   "cell_type": "code",
   "execution_count": 215,
   "id": "62d925ce",
   "metadata": {},
   "outputs": [
    {
     "data": {
      "text/html": [
       "<div>\n",
       "<style scoped>\n",
       "    .dataframe tbody tr th:only-of-type {\n",
       "        vertical-align: middle;\n",
       "    }\n",
       "\n",
       "    .dataframe tbody tr th {\n",
       "        vertical-align: top;\n",
       "    }\n",
       "\n",
       "    .dataframe thead th {\n",
       "        text-align: right;\n",
       "    }\n",
       "</style>\n",
       "<table border=\"1\" class=\"dataframe\">\n",
       "  <thead>\n",
       "    <tr style=\"text-align: right;\">\n",
       "      <th></th>\n",
       "      <th>Setosa</th>\n",
       "      <th>Versicolor</th>\n",
       "      <th>Virginica</th>\n",
       "    </tr>\n",
       "  </thead>\n",
       "  <tbody>\n",
       "    <tr>\n",
       "      <th>0</th>\n",
       "      <td>0.0</td>\n",
       "      <td>1.000000</td>\n",
       "      <td>0.000000</td>\n",
       "    </tr>\n",
       "    <tr>\n",
       "      <th>1</th>\n",
       "      <td>0.0</td>\n",
       "      <td>1.000000</td>\n",
       "      <td>0.000000</td>\n",
       "    </tr>\n",
       "    <tr>\n",
       "      <th>2</th>\n",
       "      <td>1.0</td>\n",
       "      <td>0.000000</td>\n",
       "      <td>0.000000</td>\n",
       "    </tr>\n",
       "    <tr>\n",
       "      <th>3</th>\n",
       "      <td>0.0</td>\n",
       "      <td>1.000000</td>\n",
       "      <td>0.000000</td>\n",
       "    </tr>\n",
       "    <tr>\n",
       "      <th>4</th>\n",
       "      <td>0.0</td>\n",
       "      <td>0.666667</td>\n",
       "      <td>0.333333</td>\n",
       "    </tr>\n",
       "    <tr>\n",
       "      <th>...</th>\n",
       "      <td>...</td>\n",
       "      <td>...</td>\n",
       "      <td>...</td>\n",
       "    </tr>\n",
       "    <tr>\n",
       "      <th>145</th>\n",
       "      <td>1.0</td>\n",
       "      <td>0.000000</td>\n",
       "      <td>0.000000</td>\n",
       "    </tr>\n",
       "    <tr>\n",
       "      <th>146</th>\n",
       "      <td>0.0</td>\n",
       "      <td>0.000000</td>\n",
       "      <td>1.000000</td>\n",
       "    </tr>\n",
       "    <tr>\n",
       "      <th>147</th>\n",
       "      <td>0.0</td>\n",
       "      <td>1.000000</td>\n",
       "      <td>0.000000</td>\n",
       "    </tr>\n",
       "    <tr>\n",
       "      <th>148</th>\n",
       "      <td>1.0</td>\n",
       "      <td>0.000000</td>\n",
       "      <td>0.000000</td>\n",
       "    </tr>\n",
       "    <tr>\n",
       "      <th>149</th>\n",
       "      <td>1.0</td>\n",
       "      <td>0.000000</td>\n",
       "      <td>0.000000</td>\n",
       "    </tr>\n",
       "  </tbody>\n",
       "</table>\n",
       "<p>150 rows × 3 columns</p>\n",
       "</div>"
      ],
      "text/plain": [
       "     Setosa  Versicolor  Virginica\n",
       "0       0.0    1.000000   0.000000\n",
       "1       0.0    1.000000   0.000000\n",
       "2       1.0    0.000000   0.000000\n",
       "3       0.0    1.000000   0.000000\n",
       "4       0.0    0.666667   0.333333\n",
       "..      ...         ...        ...\n",
       "145     1.0    0.000000   0.000000\n",
       "146     0.0    0.000000   1.000000\n",
       "147     0.0    1.000000   0.000000\n",
       "148     1.0    0.000000   0.000000\n",
       "149     1.0    0.000000   0.000000\n",
       "\n",
       "[150 rows x 3 columns]"
      ]
     },
     "execution_count": 215,
     "metadata": {},
     "output_type": "execute_result"
    }
   ],
   "source": [
    "iris_ref_prob_df"
   ]
  },
  {
   "cell_type": "code",
   "execution_count": 216,
   "id": "c9e3de0d",
   "metadata": {},
   "outputs": [
    {
     "data": {
      "text/plain": [
       "19085    0.538912\n",
       "3724     0.000000\n",
       "17426    0.000000\n",
       "8783     0.007815\n",
       "14552    0.164942\n",
       "           ...   \n",
       "14329    0.000000\n",
       "19254    0.000000\n",
       "5272     0.000000\n",
       "20207    0.000000\n",
       "16408    0.000000\n",
       "Name: predict_proba, Length: 101328, dtype: float64"
      ]
     },
     "execution_count": 216,
     "metadata": {},
     "output_type": "execute_result"
    }
   ],
   "source": [
    "reference['predict_proba']"
   ]
  },
  {
   "cell_type": "code",
   "execution_count": 264,
   "id": "b3fd9fc1",
   "metadata": {},
   "outputs": [
    {
     "data": {
      "text/html": [
       "<div>\n",
       "<style scoped>\n",
       "    .dataframe tbody tr th:only-of-type {\n",
       "        vertical-align: middle;\n",
       "    }\n",
       "\n",
       "    .dataframe tbody tr th {\n",
       "        vertical-align: top;\n",
       "    }\n",
       "\n",
       "    .dataframe thead th {\n",
       "        text-align: right;\n",
       "    }\n",
       "</style>\n",
       "<table border=\"1\" class=\"dataframe\">\n",
       "  <thead>\n",
       "    <tr style=\"text-align: right;\">\n",
       "      <th></th>\n",
       "      <th>complaint</th>\n",
       "      <th>category</th>\n",
       "      <th>predict_proba</th>\n",
       "      <th>pred</th>\n",
       "    </tr>\n",
       "  </thead>\n",
       "  <tbody>\n",
       "    <tr>\n",
       "      <th>19085</th>\n",
       "      <td>went xxxx saw seller selling shoes contacted m...</td>\n",
       "      <td>Checking or savings account</td>\n",
       "      <td>0.666667</td>\n",
       "      <td>Checking or savings account</td>\n",
       "    </tr>\n",
       "    <tr>\n",
       "      <th>3724</th>\n",
       "      <td>dear credit reporting agency recently discover...</td>\n",
       "      <td>Credit reporting or other personal consumer re...</td>\n",
       "      <td>0.000000</td>\n",
       "      <td>Credit reporting or other personal consumer re...</td>\n",
       "    </tr>\n",
       "    <tr>\n",
       "      <th>17426</th>\n",
       "      <td>xxxxxxxx requested   loans placed forbearance ...</td>\n",
       "      <td>Student loan</td>\n",
       "      <td>0.000000</td>\n",
       "      <td>Student loan</td>\n",
       "    </tr>\n",
       "    <tr>\n",
       "      <th>8783</th>\n",
       "      <td>credit inquires credit xxxx xxxx xxxx xxxx xxx...</td>\n",
       "      <td>Credit reporting, credit repair services, or o...</td>\n",
       "      <td>0.000000</td>\n",
       "      <td>Credit reporting, credit repair services, or o...</td>\n",
       "    </tr>\n",
       "    <tr>\n",
       "      <th>14552</th>\n",
       "      <td>almost  dollars taken past  year  banks  chase...</td>\n",
       "      <td>Checking or savings account</td>\n",
       "      <td>0.000000</td>\n",
       "      <td>Checking or savings account</td>\n",
       "    </tr>\n",
       "    <tr>\n",
       "      <th>...</th>\n",
       "      <td>...</td>\n",
       "      <td>...</td>\n",
       "      <td>...</td>\n",
       "      <td>...</td>\n",
       "    </tr>\n",
       "    <tr>\n",
       "      <th>14329</th>\n",
       "      <td>letter serves second warning take legal action...</td>\n",
       "      <td>Debt collection</td>\n",
       "      <td>0.000000</td>\n",
       "      <td>Debt collection</td>\n",
       "    </tr>\n",
       "    <tr>\n",
       "      <th>19254</th>\n",
       "      <td>writing good letter see get late payment remov...</td>\n",
       "      <td>Credit reporting, credit repair services, or o...</td>\n",
       "      <td>0.000000</td>\n",
       "      <td>Credit reporting, credit repair services, or o...</td>\n",
       "    </tr>\n",
       "    <tr>\n",
       "      <th>5272</th>\n",
       "      <td>mortgage accounts get paid via bill pay  xxxx ...</td>\n",
       "      <td>Mortgage</td>\n",
       "      <td>0.000000</td>\n",
       "      <td>Mortgage</td>\n",
       "    </tr>\n",
       "    <tr>\n",
       "      <th>20207</th>\n",
       "      <td>hardship started monthly payment increased   r...</td>\n",
       "      <td>Mortgage</td>\n",
       "      <td>0.000000</td>\n",
       "      <td>Mortgage</td>\n",
       "    </tr>\n",
       "    <tr>\n",
       "      <th>16408</th>\n",
       "      <td>received notice nowackhoward collections  pay ...</td>\n",
       "      <td>Debt collection</td>\n",
       "      <td>0.000000</td>\n",
       "      <td>Debt collection</td>\n",
       "    </tr>\n",
       "  </tbody>\n",
       "</table>\n",
       "<p>101328 rows × 4 columns</p>\n",
       "</div>"
      ],
      "text/plain": [
       "                                               complaint  \\\n",
       "19085  went xxxx saw seller selling shoes contacted m...   \n",
       "3724   dear credit reporting agency recently discover...   \n",
       "17426  xxxxxxxx requested   loans placed forbearance ...   \n",
       "8783   credit inquires credit xxxx xxxx xxxx xxxx xxx...   \n",
       "14552  almost  dollars taken past  year  banks  chase...   \n",
       "...                                                  ...   \n",
       "14329  letter serves second warning take legal action...   \n",
       "19254  writing good letter see get late payment remov...   \n",
       "5272   mortgage accounts get paid via bill pay  xxxx ...   \n",
       "20207  hardship started monthly payment increased   r...   \n",
       "16408  received notice nowackhoward collections  pay ...   \n",
       "\n",
       "                                                category  predict_proba  \\\n",
       "19085                        Checking or savings account       0.666667   \n",
       "3724   Credit reporting or other personal consumer re...       0.000000   \n",
       "17426                                       Student loan       0.000000   \n",
       "8783   Credit reporting, credit repair services, or o...       0.000000   \n",
       "14552                        Checking or savings account       0.000000   \n",
       "...                                                  ...            ...   \n",
       "14329                                    Debt collection       0.000000   \n",
       "19254  Credit reporting, credit repair services, or o...       0.000000   \n",
       "5272                                            Mortgage       0.000000   \n",
       "20207                                           Mortgage       0.000000   \n",
       "16408                                    Debt collection       0.000000   \n",
       "\n",
       "                                                    pred  \n",
       "19085                        Checking or savings account  \n",
       "3724   Credit reporting or other personal consumer re...  \n",
       "17426                                       Student loan  \n",
       "8783   Credit reporting, credit repair services, or o...  \n",
       "14552                        Checking or savings account  \n",
       "...                                                  ...  \n",
       "14329                                    Debt collection  \n",
       "19254  Credit reporting, credit repair services, or o...  \n",
       "5272                                            Mortgage  \n",
       "20207                                           Mortgage  \n",
       "16408                                    Debt collection  \n",
       "\n",
       "[101328 rows x 4 columns]"
      ]
     },
     "execution_count": 264,
     "metadata": {},
     "output_type": "execute_result"
    }
   ],
   "source": [
    "ref2"
   ]
  },
  {
   "cell_type": "code",
   "execution_count": null,
   "id": "fb3167fc",
   "metadata": {},
   "outputs": [],
   "source": [
    "# chaine de déploiement: actions github, render\n",
    "# chaine de développement: mlflow , dvc, dagshub\n"
   ]
  }
 ],
 "metadata": {
  "kernelspec": {
   "display_name": "Python 3 (ipykernel)",
   "language": "python",
   "name": "python3"
  },
  "language_info": {
   "codemirror_mode": {
    "name": "ipython",
    "version": 3
   },
   "file_extension": ".py",
   "mimetype": "text/x-python",
   "name": "python",
   "nbconvert_exporter": "python",
   "pygments_lexer": "ipython3",
   "version": "3.9.13"
  }
 },
 "nbformat": 4,
 "nbformat_minor": 5
}
